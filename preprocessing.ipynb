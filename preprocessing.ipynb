{
 "cells": [
  {
   "cell_type": "code",
   "execution_count": 1,
   "metadata": {},
   "outputs": [],
   "source": [
    "import pandas as pd\n",
    "import numpy as np"
   ]
  },
  {
   "cell_type": "code",
   "execution_count": 2,
   "metadata": {},
   "outputs": [
    {
     "name": "stdout",
     "output_type": "stream",
     "text": [
      "2948\n",
      "34\n"
     ]
    }
   ],
   "source": [
    "csv_file_path = \"datasets/vlsp2018_hotel/1-VLSP2018-SA-Hotel-train.csv\"\n",
    "df = pd.read_csv(csv_file_path)\n",
    "\n",
    "num_reviews = df['Review'].nunique()\n",
    "print(num_reviews\n",
    "      )\n",
    "features = df.columns[1:]\n",
    "\n",
    "print(len(features))\n",
    "\n",
    "# for feature in features:\n",
    "#     print(f\"{feature}: {df[feature].nunique()}\")"
   ]
  },
  {
   "cell_type": "markdown",
   "metadata": {},
   "source": [
    "## Remove Redundant Features"
   ]
  },
  {
   "cell_type": "code",
   "execution_count": null,
   "metadata": {},
   "outputs": [],
   "source": [
    "# Drop the \"HOTHOTEL#COMFORT\" column\n",
    "df_train_cleaned = df.drop(columns=[\"HOTHOTEL#COMFORT\"])\n",
    "new_csv_file_path = \"datasets/vlsp2018_hotel/train.csv\"\n",
    "df_train_cleaned.to_csv(new_csv_file_path, index=False)"
   ]
  }
 ],
 "metadata": {
  "kernelspec": {
   "display_name": "Python 3",
   "language": "python",
   "name": "python3"
  },
  "language_info": {
   "codemirror_mode": {
    "name": "ipython",
    "version": 3
   },
   "file_extension": ".py",
   "mimetype": "text/x-python",
   "name": "python",
   "nbconvert_exporter": "python",
   "pygments_lexer": "ipython3",
   "version": "3.12.2"
  }
 },
 "nbformat": 4,
 "nbformat_minor": 2
}
