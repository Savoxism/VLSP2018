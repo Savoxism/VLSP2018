{
 "metadata": {
  "kernelspec": {
   "language": "python",
   "display_name": "Python 3",
   "name": "python3"
  },
  "language_info": {
   "name": "python",
   "version": "3.10.14",
   "mimetype": "text/x-python",
   "codemirror_mode": {
    "name": "ipython",
    "version": 3
   },
   "pygments_lexer": "ipython3",
   "nbconvert_exporter": "python",
   "file_extension": ".py"
  },
  "kaggle": {
   "accelerator": "none",
   "dataSources": [
    {
     "sourceId": 9665786,
     "sourceType": "datasetVersion",
     "datasetId": 5905998
    }
   ],
   "dockerImageVersionId": 30787,
   "isInternetEnabled": true,
   "language": "python",
   "sourceType": "notebook",
   "isGpuEnabled": false
  }
 },
 "nbformat_minor": 4,
 "nbformat": 4,
 "cells": [
  {
   "cell_type": "code",
   "source": "import numpy as np \nimport pandas as pd \nfrom sklearn.model_selection import train_test_split\n\nimport os\nfor dirname, _, filenames in os.walk('/kaggle/input'):\n    for filename in filenames:\n        print(os.path.join(dirname, filename))\n\n# You can write up to 20GB to the current directory (/kaggle/working/) that gets preserved as output when you create a version using \"Save & Run All\" \n# You can also write temporary files to /kaggle/temp/, but they won't be saved outside of the current session",
   "metadata": {
    "_uuid": "8f2839f25d086af736a60e9eeb907d3b93b6e0e5",
    "_cell_guid": "b1076dfc-b9ad-4769-8c92-a6c4dae69d19",
    "execution": {
     "iopub.status.busy": "2024-10-20T02:11:38.026018Z",
     "iopub.execute_input": "2024-10-20T02:11:38.026546Z",
     "iopub.status.idle": "2024-10-20T02:11:38.034435Z",
     "shell.execute_reply.started": "2024-10-20T02:11:38.026507Z",
     "shell.execute_reply": "2024-10-20T02:11:38.033473Z"
    },
    "trusted": true
   },
   "execution_count": 2,
   "outputs": [
    {
     "name": "stdout",
     "text": "/kaggle/input/vlsp2018-hotel/3-VLSP2018-SA-Hotel-test.csv\n/kaggle/input/vlsp2018-hotel/2-VLSP2018-SA-Hotel-dev.csv\n/kaggle/input/vlsp2018-hotel/1-VLSP2018-SA-Hotel-train.csv\n",
     "output_type": "stream"
    }
   ]
  },
  {
   "cell_type": "code",
   "source": "!pip install -q emoji\n!pip install -q vncorenlp\n!pip install -q datasets\n!pip install -q accelerate\n!pip install -q transformers\n!pip install vncorenlp",
   "metadata": {
    "execution": {
     "iopub.status.busy": "2024-10-19T15:31:33.551215Z",
     "iopub.execute_input": "2024-10-19T15:31:33.551975Z",
     "iopub.status.idle": "2024-10-19T15:32:35.846997Z",
     "shell.execute_reply.started": "2024-10-19T15:31:33.551932Z",
     "shell.execute_reply": "2024-10-19T15:32:35.845705Z"
    },
    "trusted": true
   },
   "execution_count": 3,
   "outputs": [
    {
     "name": "stderr",
     "text": "/opt/conda/lib/python3.10/pty.py:89: RuntimeWarning: os.fork() was called. os.fork() is incompatible with multithreaded code, and JAX is multithreaded, so this will likely lead to a deadlock.\n  pid, fd = os.forkpty()\n",
     "output_type": "stream"
    }
   ]
  },
  {
   "cell_type": "code",
   "source": "!git clone https://github.com/ds4v/absa-vlsp-2018.git\n%cd ./absa-vlsp-2018/experiments\n!mkdir predictions\n!ls",
   "metadata": {
    "execution": {
     "iopub.status.busy": "2024-10-20T02:11:41.846037Z",
     "iopub.execute_input": "2024-10-20T02:11:41.846421Z",
     "iopub.status.idle": "2024-10-20T02:11:46.736964Z",
     "shell.execute_reply.started": "2024-10-20T02:11:41.846384Z",
     "shell.execute_reply": "2024-10-20T02:11:46.735984Z"
    },
    "trusted": true
   },
   "execution_count": 3,
   "outputs": [
    {
     "name": "stdout",
     "text": "Cloning into 'absa-vlsp-2018'...\nremote: Enumerating objects: 255, done.\u001B[K\nremote: Counting objects: 100% (54/54), done.\u001B[K\nremote: Compressing objects: 100% (30/30), done.\u001B[K\nremote: Total 255 (delta 27), reused 40 (delta 24), pack-reused 201 (from 1)\u001B[K\nReceiving objects: 100% (255/255), 32.07 MiB | 39.19 MiB/s, done.\nResolving deltas: 100% (96/96), done.\n/kaggle/working/absa-vlsp-2018/experiments\nmkdir: cannot create directory 'predictions': File exists\nHotel-v1.ipynb\tRestaurant-v1.ipynb  predictions\nHotel-v2.ipynb\tRestaurant-v2.ipynb\n",
     "output_type": "stream"
    }
   ]
  },
  {
   "cell_type": "code",
   "source": "import sys\nimport numpy as np\nimport pandas as pd\nimport tensorflow as tf\nsys.path.append('..')\ntf.__version__",
   "metadata": {
    "execution": {
     "iopub.status.busy": "2024-10-20T02:12:00.387600Z",
     "iopub.execute_input": "2024-10-20T02:12:00.387983Z",
     "iopub.status.idle": "2024-10-20T02:12:12.222976Z",
     "shell.execute_reply.started": "2024-10-20T02:12:00.387947Z",
     "shell.execute_reply": "2024-10-20T02:12:12.222003Z"
    },
    "trusted": true
   },
   "execution_count": 4,
   "outputs": [
    {
     "execution_count": 4,
     "output_type": "execute_result",
     "data": {
      "text/plain": "'2.16.1'"
     },
     "metadata": {}
    }
   ]
  },
  {
   "cell_type": "code",
   "source": "if tf.config.list_physical_devices('GPU'):\n    physical_devices = tf.config.list_physical_devices('GPU')\n    tf.config.experimental.set_memory_growth(physical_devices[0], True)\n    print('Using GPU:', tf.test.gpu_device_name())\n    !nvcc -V\nelse: raise ValueError('Running on CPU is not recommended.')",
   "metadata": {
    "execution": {
     "iopub.status.busy": "2024-10-20T02:13:03.186431Z",
     "iopub.execute_input": "2024-10-20T02:13:03.187157Z",
     "iopub.status.idle": "2024-10-20T02:13:04.186510Z",
     "shell.execute_reply.started": "2024-10-20T02:13:03.187113Z",
     "shell.execute_reply": "2024-10-20T02:13:04.185391Z"
    },
    "trusted": true
   },
   "execution_count": 7,
   "outputs": [
    {
     "name": "stdout",
     "text": "Using GPU: /device:GPU:0\nnvcc: NVIDIA (R) Cuda compiler driver\nCopyright (c) 2005-2023 NVIDIA Corporation\nBuilt on Wed_Nov_22_10:17:15_PST_2023\nCuda compilation tools, release 12.3, V12.3.107\nBuild cuda_12.3.r12.3/compiler.33567101_0\n",
     "output_type": "stream"
    }
   ]
  },
  {
   "cell_type": "code",
   "source": "TRAIN_PATH = r'/kaggle/input/vlsp2018-hotel/3-VLSP2018-SA-Hotel-test.csv'  # Nhớ đổi lại data path, data nặng vcl =))\nVAL_PATH = r'/kaggle/input/vlsp2018-hotel/3-VLSP2018-SA-Hotel-test.csv'\nTEST_PATH = r'/kaggle/input/vlsp2018-hotel/3-VLSP2018-SA-Hotel-test.csv'\nPRETRAINED_MODEL = 'vinai/phobert-base'\nMODEL_NAME = 'Hotel-v1' # Multitask model on Hotel domain\nMAX_LENGTH = 256\nBATCH_SIZE = 128\nEPOCHS = 10",
   "metadata": {
    "execution": {
     "iopub.status.busy": "2024-10-20T02:58:30.773044Z",
     "iopub.execute_input": "2024-10-20T02:58:30.773370Z",
     "iopub.status.idle": "2024-10-20T02:58:30.788526Z",
     "shell.execute_reply.started": "2024-10-20T02:58:30.773337Z",
     "shell.execute_reply": "2024-10-20T02:58:30.787617Z"
    },
    "trusted": true
   },
   "execution_count": 48,
   "outputs": []
  },
  {
   "cell_type": "code",
   "source": "%cd /kaggle/working/absa-vlsp-2018",
   "metadata": {
    "execution": {
     "iopub.status.busy": "2024-10-20T02:34:12.138478Z",
     "iopub.execute_input": "2024-10-20T02:34:12.139157Z",
     "iopub.status.idle": "2024-10-20T02:34:12.145777Z",
     "shell.execute_reply.started": "2024-10-20T02:34:12.139115Z",
     "shell.execute_reply": "2024-10-20T02:34:12.144885Z"
    },
    "trusted": true
   },
   "execution_count": 30,
   "outputs": [
    {
     "name": "stdout",
     "text": "/kaggle/working/absa-vlsp-2018\n",
     "output_type": "stream"
    }
   ]
  },
  {
   "cell_type": "code",
   "source": "%pwd",
   "metadata": {
    "execution": {
     "iopub.status.busy": "2024-10-20T02:34:13.287430Z",
     "iopub.execute_input": "2024-10-20T02:34:13.287843Z",
     "iopub.status.idle": "2024-10-20T02:34:13.294907Z",
     "shell.execute_reply.started": "2024-10-20T02:34:13.287807Z",
     "shell.execute_reply": "2024-10-20T02:34:13.293891Z"
    },
    "trusted": true
   },
   "execution_count": 31,
   "outputs": [
    {
     "execution_count": 31,
     "output_type": "execute_result",
     "data": {
      "text/plain": "'/kaggle/working/absa-vlsp-2018'"
     },
     "metadata": {}
    }
   ]
  },
  {
   "cell_type": "code",
   "source": "from processors.vlsp2018_processor import VLSP2018Loader\nraw_datasets = VLSP2018Loader.load(TRAIN_PATH, VAL_PATH, TEST_PATH)\nraw_datasets",
   "metadata": {
    "execution": {
     "iopub.status.busy": "2024-10-20T02:34:14.603625Z",
     "iopub.execute_input": "2024-10-20T02:34:14.604004Z",
     "iopub.status.idle": "2024-10-20T02:34:14.986713Z",
     "shell.execute_reply.started": "2024-10-20T02:34:14.603969Z",
     "shell.execute_reply": "2024-10-20T02:34:14.985772Z"
    },
    "trusted": true
   },
   "execution_count": 32,
   "outputs": [
    {
     "output_type": "display_data",
     "data": {
      "text/plain": "Generating train split: 0 examples [00:00, ? examples/s]",
      "application/vnd.jupyter.widget-view+json": {
       "version_major": 2,
       "version_minor": 0,
       "model_id": "7a312d3e14234e0299a55ba9f7cf96c6"
      }
     },
     "metadata": {}
    },
    {
     "output_type": "display_data",
     "data": {
      "text/plain": "Generating val split: 0 examples [00:00, ? examples/s]",
      "application/vnd.jupyter.widget-view+json": {
       "version_major": 2,
       "version_minor": 0,
       "model_id": "be9e86f2b8584b46add8ec8929578996"
      }
     },
     "metadata": {}
    },
    {
     "output_type": "display_data",
     "data": {
      "text/plain": "Generating test split: 0 examples [00:00, ? examples/s]",
      "application/vnd.jupyter.widget-view+json": {
       "version_major": 2,
       "version_minor": 0,
       "model_id": "172f7b0df5854c8e93bff0673e524dfa"
      }
     },
     "metadata": {}
    },
    {
     "execution_count": 32,
     "output_type": "execute_result",
     "data": {
      "text/plain": "DatasetDict({\n    train: Dataset({\n        features: ['Review', 'FACILITIES#CLEANLINESS', 'FACILITIES#COMFORT', 'FACILITIES#DESIGN&FEATURES', 'FACILITIES#GENERAL', 'FACILITIES#MISCELLANEOUS', 'FACILITIES#PRICES', 'FACILITIES#QUALITY', 'FOOD&DRINKS#MISCELLANEOUS', 'FOOD&DRINKS#PRICES', 'FOOD&DRINKS#QUALITY', 'FOOD&DRINKS#STYLE&OPTIONS', 'HOTEL#CLEANLINESS', 'HOTEL#COMFORT', 'HOTEL#DESIGN&FEATURES', 'HOTEL#GENERAL', 'HOTEL#MISCELLANEOUS', 'HOTEL#PRICES', 'HOTEL#QUALITY', 'LOCATION#GENERAL', 'ROOMS#CLEANLINESS', 'ROOMS#COMFORT', 'ROOMS#DESIGN&FEATURES', 'ROOMS#GENERAL', 'ROOMS#MISCELLANEOUS', 'ROOMS#PRICES', 'ROOMS#QUALITY', 'ROOM_AMENITIES#CLEANLINESS', 'ROOM_AMENITIES#COMFORT', 'ROOM_AMENITIES#DESIGN&FEATURES', 'ROOM_AMENITIES#GENERAL', 'ROOM_AMENITIES#MISCELLANEOUS', 'ROOM_AMENITIES#PRICES', 'ROOM_AMENITIES#QUALITY', 'SERVICE#GENERAL'],\n        num_rows: 600\n    })\n    val: Dataset({\n        features: ['Review', 'FACILITIES#CLEANLINESS', 'FACILITIES#COMFORT', 'FACILITIES#DESIGN&FEATURES', 'FACILITIES#GENERAL', 'FACILITIES#MISCELLANEOUS', 'FACILITIES#PRICES', 'FACILITIES#QUALITY', 'FOOD&DRINKS#MISCELLANEOUS', 'FOOD&DRINKS#PRICES', 'FOOD&DRINKS#QUALITY', 'FOOD&DRINKS#STYLE&OPTIONS', 'HOTEL#CLEANLINESS', 'HOTEL#COMFORT', 'HOTEL#DESIGN&FEATURES', 'HOTEL#GENERAL', 'HOTEL#MISCELLANEOUS', 'HOTEL#PRICES', 'HOTEL#QUALITY', 'LOCATION#GENERAL', 'ROOMS#CLEANLINESS', 'ROOMS#COMFORT', 'ROOMS#DESIGN&FEATURES', 'ROOMS#GENERAL', 'ROOMS#MISCELLANEOUS', 'ROOMS#PRICES', 'ROOMS#QUALITY', 'ROOM_AMENITIES#CLEANLINESS', 'ROOM_AMENITIES#COMFORT', 'ROOM_AMENITIES#DESIGN&FEATURES', 'ROOM_AMENITIES#GENERAL', 'ROOM_AMENITIES#MISCELLANEOUS', 'ROOM_AMENITIES#PRICES', 'ROOM_AMENITIES#QUALITY', 'SERVICE#GENERAL'],\n        num_rows: 600\n    })\n    test: Dataset({\n        features: ['Review', 'FACILITIES#CLEANLINESS', 'FACILITIES#COMFORT', 'FACILITIES#DESIGN&FEATURES', 'FACILITIES#GENERAL', 'FACILITIES#MISCELLANEOUS', 'FACILITIES#PRICES', 'FACILITIES#QUALITY', 'FOOD&DRINKS#MISCELLANEOUS', 'FOOD&DRINKS#PRICES', 'FOOD&DRINKS#QUALITY', 'FOOD&DRINKS#STYLE&OPTIONS', 'HOTEL#CLEANLINESS', 'HOTEL#COMFORT', 'HOTEL#DESIGN&FEATURES', 'HOTEL#GENERAL', 'HOTEL#MISCELLANEOUS', 'HOTEL#PRICES', 'HOTEL#QUALITY', 'LOCATION#GENERAL', 'ROOMS#CLEANLINESS', 'ROOMS#COMFORT', 'ROOMS#DESIGN&FEATURES', 'ROOMS#GENERAL', 'ROOMS#MISCELLANEOUS', 'ROOMS#PRICES', 'ROOMS#QUALITY', 'ROOM_AMENITIES#CLEANLINESS', 'ROOM_AMENITIES#COMFORT', 'ROOM_AMENITIES#DESIGN&FEATURES', 'ROOM_AMENITIES#GENERAL', 'ROOM_AMENITIES#MISCELLANEOUS', 'ROOM_AMENITIES#PRICES', 'ROOM_AMENITIES#QUALITY', 'SERVICE#GENERAL'],\n        num_rows: 600\n    })\n})"
     },
     "metadata": {}
    }
   ]
  },
  {
   "cell_type": "code",
   "source": "!pip install vncorenlp",
   "metadata": {
    "execution": {
     "iopub.status.busy": "2024-10-20T02:17:24.862405Z",
     "iopub.execute_input": "2024-10-20T02:17:24.863329Z",
     "iopub.status.idle": "2024-10-20T02:17:39.873396Z",
     "shell.execute_reply.started": "2024-10-20T02:17:24.863283Z",
     "shell.execute_reply": "2024-10-20T02:17:39.872293Z"
    },
    "trusted": true
   },
   "execution_count": 25,
   "outputs": [
    {
     "name": "stderr",
     "text": "/opt/conda/lib/python3.10/pty.py:89: RuntimeWarning: os.fork() was called. os.fork() is incompatible with multithreaded code, and JAX is multithreaded, so this will likely lead to a deadlock.\n  pid, fd = os.forkpty()\n",
     "output_type": "stream"
    },
    {
     "name": "stdout",
     "text": "Collecting vncorenlp\n  Downloading vncorenlp-1.0.3.tar.gz (2.6 MB)\n\u001B[2K     \u001B[90m━━━━━━━━━━━━━━━━━━━━━━━━━━━━━━━━━━━━━━━━\u001B[0m \u001B[32m2.6/2.6 MB\u001B[0m \u001B[31m32.9 MB/s\u001B[0m eta \u001B[36m0:00:00\u001B[0m00:01\u001B[0m00:01\u001B[0m\n\u001B[?25h  Preparing metadata (setup.py) ... \u001B[?25ldone\n\u001B[?25hRequirement already satisfied: requests in /opt/conda/lib/python3.10/site-packages (from vncorenlp) (2.32.3)\nRequirement already satisfied: charset-normalizer<4,>=2 in /opt/conda/lib/python3.10/site-packages (from requests->vncorenlp) (3.3.2)\nRequirement already satisfied: idna<4,>=2.5 in /opt/conda/lib/python3.10/site-packages (from requests->vncorenlp) (3.7)\nRequirement already satisfied: urllib3<3,>=1.21.1 in /opt/conda/lib/python3.10/site-packages (from requests->vncorenlp) (1.26.18)\nRequirement already satisfied: certifi>=2017.4.17 in /opt/conda/lib/python3.10/site-packages (from requests->vncorenlp) (2024.8.30)\nBuilding wheels for collected packages: vncorenlp\n  Building wheel for vncorenlp (setup.py) ... \u001B[?25ldone\n\u001B[?25h  Created wheel for vncorenlp: filename=vncorenlp-1.0.3-py3-none-any.whl size=2645932 sha256=b2d076d9cf9f1207460769e1aee67a6eaa095f296338479fc340de4140b5e2ee\n  Stored in directory: /root/.cache/pip/wheels/5d/d9/b3/41f6c6b1ab758561fd4aab55dc0480b9d7a131c6aaa573a3fa\nSuccessfully built vncorenlp\nInstalling collected packages: vncorenlp\nSuccessfully installed vncorenlp-1.0.3\n",
     "output_type": "stream"
    }
   ]
  },
  {
   "cell_type": "code",
   "source": "from processors.vietnamese_processor import VietnameseTextPreprocessor\nvn_preprocessor = VietnameseTextPreprocessor(vncorenlp_dir='../processor/VnCoreNLP', extra_teencodes={\n    'khách sạn': ['ks'], 'nhà hàng': ['nhahang'], 'nhân viên': ['nv'],\n    'cửa hàng': ['store', 'sop', 'shopE', 'shop'],\n    'sản phẩm': ['sp', 'product'], 'hàng': ['hàg'],\n    'giao hàng': ['ship', 'delivery', 'síp'], 'đặt hàng': ['order'],\n    'chuẩn chính hãng': ['authentic', 'aut', 'auth'], 'hạn sử dụng': ['date', 'hsd'],\n    'điện thoại': ['dt'],  'facebook': ['fb', 'face'],\n    'nhắn tin': ['nt', 'ib'], 'trả lời': ['tl', 'trl', 'rep'],\n    'feedback': ['fback', 'fedback'], 'sử dụng': ['sd'], 'xài': ['sài'],\n}, max_correction_length=MAX_LENGTH)",
   "metadata": {
    "execution": {
     "iopub.status.busy": "2024-10-20T02:34:19.561781Z",
     "iopub.execute_input": "2024-10-20T02:34:19.562673Z",
     "iopub.status.idle": "2024-10-20T02:34:27.088640Z",
     "shell.execute_reply.started": "2024-10-20T02:34:19.562619Z",
     "shell.execute_reply": "2024-10-20T02:34:27.087046Z"
    },
    "trusted": true
   },
   "execution_count": 33,
   "outputs": [
    {
     "name": "stdout",
     "text": "2024-10-20 02.34.19 INFO VnCoreNLPServer - Using annotators: wseg\n2024-10-20 02:34:19 INFO  WordSegmenter:24 - Loading Word Segmentation model\n2024-10-20 02.34.20 INFO VnCoreNLPServer - VnCoreNLPServer is listening on http://127.0.0.1:57023\n2024-10-20 02.34.20 INFO log - Logging initialized @744ms to org.eclipse.jetty.util.log.Slf4jLog\n2024-10-20 02.34.20 INFO EmbeddedJettyServer - == Spark has ignited ...\n2024-10-20 02.34.20 INFO EmbeddedJettyServer - >> Listening on 127.0.0.1:57023\n2024-10-20 02.34.20 INFO Server - jetty-9.4.z-SNAPSHOT, build timestamp: 2017-11-21T21:27:37Z, git hash: 82b8fb23f757335bb3329d540ce37a2a2615f0a8\n2024-10-20 02.34.20 INFO session - DefaultSessionIdManager workerName=node0\n2024-10-20 02.34.20 INFO session - No SessionScavenger set, using defaults\n2024-10-20 02.34.20 INFO session - Scavenging every 600000ms\n2024-10-20 02.34.20 INFO AbstractConnector - Started ServerConnector@78297970{HTTP/1.1,[http/1.1]}{127.0.0.1:57023}\n2024-10-20 02.34.20 INFO Server - Started @843ms\nVnCoreNLP word segmenter is loaded successfully.\nbmd1905/vietnamese-correction-v2 is loaded successfully.\n",
     "output_type": "stream"
    }
   ]
  },
  {
   "cell_type": "code",
   "source": "from transformers import AutoTokenizer\ntokenizer = AutoTokenizer.from_pretrained(PRETRAINED_MODEL)\ntokens = tokenizer.encode('Tôi là thành_viên nhóm hackathon MetaMind .')\nprint('Encode:', tokens, '\\nDecode:', tokenizer.decode(tokens))\ntokenizer.model_input_names",
   "metadata": {
    "execution": {
     "iopub.status.busy": "2024-10-20T02:34:27.864654Z",
     "iopub.execute_input": "2024-10-20T02:34:27.864970Z",
     "iopub.status.idle": "2024-10-20T02:34:28.449050Z",
     "shell.execute_reply.started": "2024-10-20T02:34:27.864937Z",
     "shell.execute_reply": "2024-10-20T02:34:28.448075Z"
    },
    "trusted": true
   },
   "execution_count": 35,
   "outputs": [
    {
     "name": "stdout",
     "text": "Encode: [0, 218, 8, 496, 276, 1340, 12205, 56020, 11094, 1850, 6466, 2158, 5, 2] \nDecode: <s> Tôi là thành_viên nhóm hackathon MetaMind . </s>\n",
     "output_type": "stream"
    },
    {
     "execution_count": 35,
     "output_type": "execute_result",
     "data": {
      "text/plain": "['input_ids', 'token_type_ids', 'attention_mask']"
     },
     "metadata": {}
    }
   ]
  },
  {
   "cell_type": "code",
   "source": "preprocessed_datasets = VLSP2018Loader.preprocess_and_tokenize(raw_datasets, vn_preprocessor, tokenizer, BATCH_SIZE * 2, MAX_LENGTH)\npreprocessed_datasets.save_to_disk('../datasets/preprocessed_hotel')\ndisplay(preprocessed_datasets)",
   "metadata": {
    "execution": {
     "iopub.status.busy": "2024-10-20T02:34:30.417534Z",
     "iopub.execute_input": "2024-10-20T02:34:30.418457Z",
     "iopub.status.idle": "2024-10-20T02:53:35.549246Z",
     "shell.execute_reply.started": "2024-10-20T02:34:30.418411Z",
     "shell.execute_reply": "2024-10-20T02:53:35.548150Z"
    },
    "trusted": true
   },
   "execution_count": 36,
   "outputs": [
    {
     "name": "stdout",
     "text": "[INFO] Preprocessing and tokenizing text data...\n",
     "output_type": "stream"
    },
    {
     "output_type": "display_data",
     "data": {
      "text/plain": "Map:   0%|          | 0/600 [00:00<?, ? examples/s]",
      "application/vnd.jupyter.widget-view+json": {
       "version_major": 2,
       "version_minor": 0,
       "model_id": "3fcee4812905441dbcec713f245e459a"
      }
     },
     "metadata": {}
    },
    {
     "name": "stderr",
     "text": "/opt/conda/lib/python3.10/multiprocessing/popen_fork.py:66: RuntimeWarning: os.fork() was called. os.fork() is incompatible with multithreaded code, and JAX is multithreaded, so this will likely lead to a deadlock.\n  self.pid = os.fork()\n/opt/conda/lib/python3.10/multiprocessing/popen_fork.py:66: RuntimeWarning: os.fork() was called. os.fork() is incompatible with multithreaded code, and JAX is multithreaded, so this will likely lead to a deadlock.\n  self.pid = os.fork()\n",
     "output_type": "stream"
    },
    {
     "output_type": "display_data",
     "data": {
      "text/plain": "Map:   0%|          | 0/600 [00:00<?, ? examples/s]",
      "application/vnd.jupyter.widget-view+json": {
       "version_major": 2,
       "version_minor": 0,
       "model_id": "6b4d8e4df87d4a2ebfa02f7b5eec9f8c"
      }
     },
     "metadata": {}
    },
    {
     "output_type": "display_data",
     "data": {
      "text/plain": "Map:   0%|          | 0/600 [00:00<?, ? examples/s]",
      "application/vnd.jupyter.widget-view+json": {
       "version_major": 2,
       "version_minor": 0,
       "model_id": "b78562feb19d4992804ec09567341696"
      }
     },
     "metadata": {}
    },
    {
     "output_type": "display_data",
     "data": {
      "text/plain": "Saving the dataset (0/1 shards):   0%|          | 0/600 [00:00<?, ? examples/s]",
      "application/vnd.jupyter.widget-view+json": {
       "version_major": 2,
       "version_minor": 0,
       "model_id": "96d9264f93fb4136b91f2d94bf9739eb"
      }
     },
     "metadata": {}
    },
    {
     "output_type": "display_data",
     "data": {
      "text/plain": "Saving the dataset (0/1 shards):   0%|          | 0/600 [00:00<?, ? examples/s]",
      "application/vnd.jupyter.widget-view+json": {
       "version_major": 2,
       "version_minor": 0,
       "model_id": "6955cc45062e44d8801991ac17c020fc"
      }
     },
     "metadata": {}
    },
    {
     "output_type": "display_data",
     "data": {
      "text/plain": "Saving the dataset (0/1 shards):   0%|          | 0/600 [00:00<?, ? examples/s]",
      "application/vnd.jupyter.widget-view+json": {
       "version_major": 2,
       "version_minor": 0,
       "model_id": "7c6a7068af194c2e91191857cd642ea1"
      }
     },
     "metadata": {}
    },
    {
     "output_type": "display_data",
     "data": {
      "text/plain": "DatasetDict({\n    train: Dataset({\n        features: ['FACILITIES#CLEANLINESS', 'FACILITIES#COMFORT', 'FACILITIES#DESIGN&FEATURES', 'FACILITIES#GENERAL', 'FACILITIES#MISCELLANEOUS', 'FACILITIES#PRICES', 'FACILITIES#QUALITY', 'FOOD&DRINKS#MISCELLANEOUS', 'FOOD&DRINKS#PRICES', 'FOOD&DRINKS#QUALITY', 'FOOD&DRINKS#STYLE&OPTIONS', 'HOTEL#CLEANLINESS', 'HOTEL#COMFORT', 'HOTEL#DESIGN&FEATURES', 'HOTEL#GENERAL', 'HOTEL#MISCELLANEOUS', 'HOTEL#PRICES', 'HOTEL#QUALITY', 'LOCATION#GENERAL', 'ROOMS#CLEANLINESS', 'ROOMS#COMFORT', 'ROOMS#DESIGN&FEATURES', 'ROOMS#GENERAL', 'ROOMS#MISCELLANEOUS', 'ROOMS#PRICES', 'ROOMS#QUALITY', 'ROOM_AMENITIES#CLEANLINESS', 'ROOM_AMENITIES#COMFORT', 'ROOM_AMENITIES#DESIGN&FEATURES', 'ROOM_AMENITIES#GENERAL', 'ROOM_AMENITIES#MISCELLANEOUS', 'ROOM_AMENITIES#PRICES', 'ROOM_AMENITIES#QUALITY', 'SERVICE#GENERAL', 'input_ids', 'token_type_ids', 'attention_mask'],\n        num_rows: 600\n    })\n    val: Dataset({\n        features: ['FACILITIES#CLEANLINESS', 'FACILITIES#COMFORT', 'FACILITIES#DESIGN&FEATURES', 'FACILITIES#GENERAL', 'FACILITIES#MISCELLANEOUS', 'FACILITIES#PRICES', 'FACILITIES#QUALITY', 'FOOD&DRINKS#MISCELLANEOUS', 'FOOD&DRINKS#PRICES', 'FOOD&DRINKS#QUALITY', 'FOOD&DRINKS#STYLE&OPTIONS', 'HOTEL#CLEANLINESS', 'HOTEL#COMFORT', 'HOTEL#DESIGN&FEATURES', 'HOTEL#GENERAL', 'HOTEL#MISCELLANEOUS', 'HOTEL#PRICES', 'HOTEL#QUALITY', 'LOCATION#GENERAL', 'ROOMS#CLEANLINESS', 'ROOMS#COMFORT', 'ROOMS#DESIGN&FEATURES', 'ROOMS#GENERAL', 'ROOMS#MISCELLANEOUS', 'ROOMS#PRICES', 'ROOMS#QUALITY', 'ROOM_AMENITIES#CLEANLINESS', 'ROOM_AMENITIES#COMFORT', 'ROOM_AMENITIES#DESIGN&FEATURES', 'ROOM_AMENITIES#GENERAL', 'ROOM_AMENITIES#MISCELLANEOUS', 'ROOM_AMENITIES#PRICES', 'ROOM_AMENITIES#QUALITY', 'SERVICE#GENERAL', 'input_ids', 'token_type_ids', 'attention_mask'],\n        num_rows: 600\n    })\n    test: Dataset({\n        features: ['FACILITIES#CLEANLINESS', 'FACILITIES#COMFORT', 'FACILITIES#DESIGN&FEATURES', 'FACILITIES#GENERAL', 'FACILITIES#MISCELLANEOUS', 'FACILITIES#PRICES', 'FACILITIES#QUALITY', 'FOOD&DRINKS#MISCELLANEOUS', 'FOOD&DRINKS#PRICES', 'FOOD&DRINKS#QUALITY', 'FOOD&DRINKS#STYLE&OPTIONS', 'HOTEL#CLEANLINESS', 'HOTEL#COMFORT', 'HOTEL#DESIGN&FEATURES', 'HOTEL#GENERAL', 'HOTEL#MISCELLANEOUS', 'HOTEL#PRICES', 'HOTEL#QUALITY', 'LOCATION#GENERAL', 'ROOMS#CLEANLINESS', 'ROOMS#COMFORT', 'ROOMS#DESIGN&FEATURES', 'ROOMS#GENERAL', 'ROOMS#MISCELLANEOUS', 'ROOMS#PRICES', 'ROOMS#QUALITY', 'ROOM_AMENITIES#CLEANLINESS', 'ROOM_AMENITIES#COMFORT', 'ROOM_AMENITIES#DESIGN&FEATURES', 'ROOM_AMENITIES#GENERAL', 'ROOM_AMENITIES#MISCELLANEOUS', 'ROOM_AMENITIES#PRICES', 'ROOM_AMENITIES#QUALITY', 'SERVICE#GENERAL', 'input_ids', 'token_type_ids', 'attention_mask'],\n        num_rows: 600\n    })\n})"
     },
     "metadata": {}
    }
   ]
  },
  {
   "cell_type": "code",
   "source": "pd.DataFrame({\n    'raw_datasets': raw_datasets['train']['Review'][480:490],\n    'encoded_input_ids': preprocessed_datasets['train']['input_ids'][480:490],\n    'decoded_input_ids': [tokenizer.decode(preprocessed_datasets['train'][i]['input_ids']) for i in range(480, 490)]\n})",
   "metadata": {
    "execution": {
     "iopub.status.busy": "2024-10-20T02:55:03.067101Z",
     "iopub.execute_input": "2024-10-20T02:55:03.067803Z",
     "iopub.status.idle": "2024-10-20T02:55:03.234648Z",
     "shell.execute_reply.started": "2024-10-20T02:55:03.067762Z",
     "shell.execute_reply": "2024-10-20T02:55:03.233795Z"
    },
    "trusted": true
   },
   "execution_count": 38,
   "outputs": [
    {
     "execution_count": 38,
     "output_type": "execute_result",
     "data": {
      "text/plain": "                                        raw_datasets  \\\n0  View đẹp,sạch sẽ,nhân viên thân thiện nhiệt tì...   \n1  Bữa sáng ngon. View đẹp, cạnh nhiều nhà hàng h...   \n2       View đẹp Hành lang không sạch sẽ, mùi ẩm mốc   \n3  Nhân viên nhiệt tình, chu đáo, thân thiện. Phò...   \n4  Nhân viên phục vụ ân cần, lịch sự. Không gian ...   \n5  Phòng có 2 vị trí cửa sổ ngắm về phía Đà Nẵng,...   \n6  Hai nhân viên lễ tân, có một nhân viên rất nhi...   \n7  Giường rộng thoải mái. Phòng đầy đủ tiện nghi....   \n8  Nhân viên thân thiện, nhiệt tình. Giá phòng hợ...   \n9  Gần biển và cũng gần trung tâm luôn. Mình thuê...   \n\n                                   encoded_input_ids  \\\n0  [0, 9328, 258, 4767, 650, 3188, 3857, 1339, 29...   \n1  [0, 1339, 298, 1325, 9328, 258, 362, 36, 69, 1...   \n2  [0, 9328, 258, 3967, 17, 4767, 1602, 31631, 2,...   \n3  [0, 650, 3857, 5655, 3188, 292, 1681, 258, 115...   \n4  [0, 650, 533, 13647, 8502, 1152, 15646, 9328, ...   \n5  [0, 292, 10, 76, 442, 4185, 2381, 28, 216, 622...   \n6  [0, 82, 650, 17112, 10, 16, 650, 59, 3857, 50,...   \n7  [0, 2639, 720, 1937, 292, 997, 6689, 124, 262,...   \n8  [0, 650, 3188, 3857, 133, 292, 1640, 5959, 57,...   \n9  [0, 124, 262, 6, 32, 124, 591, 236, 68, 684, 9...   \n\n                                   decoded_input_ids  \n0  <s> view đẹp sạch_sẽ nhân_viên thân_thiện nhiệ...  \n1  <s> bữa sáng ngon view đẹp cạnh nhiều nhà hàg ...  \n2  <s> view đẹp hành_lang không sạch_sẽ mùi ẩm_mố...  \n3  <s> nhân_viên nhiệt_tình chu_đáo thân_thiện ph...  \n4  <s> nhân_viên phục_vụ ân_cần lịch_sự không_gia...  \n5  <s> phòng có 2 vị_trí cửa_sổ ngắm về phía đà_n...  \n6  <s> hai nhân_viên lễ_tân có một nhân_viên rất ...  \n7  <s> giường rộng thoải_mái phòng đầy_đủ tiện_ng...  \n8  <s> nhân_viên thân_thiện nhiệt_tình giá phòng ...  \n9  <s> gần biển và cũng gần trung_tâm luôn mình t...  ",
      "text/html": "<div>\n<style scoped>\n    .dataframe tbody tr th:only-of-type {\n        vertical-align: middle;\n    }\n\n    .dataframe tbody tr th {\n        vertical-align: top;\n    }\n\n    .dataframe thead th {\n        text-align: right;\n    }\n</style>\n<table border=\"1\" class=\"dataframe\">\n  <thead>\n    <tr style=\"text-align: right;\">\n      <th></th>\n      <th>raw_datasets</th>\n      <th>encoded_input_ids</th>\n      <th>decoded_input_ids</th>\n    </tr>\n  </thead>\n  <tbody>\n    <tr>\n      <th>0</th>\n      <td>View đẹp,sạch sẽ,nhân viên thân thiện nhiệt tì...</td>\n      <td>[0, 9328, 258, 4767, 650, 3188, 3857, 1339, 29...</td>\n      <td>&lt;s&gt; view đẹp sạch_sẽ nhân_viên thân_thiện nhiệ...</td>\n    </tr>\n    <tr>\n      <th>1</th>\n      <td>Bữa sáng ngon. View đẹp, cạnh nhiều nhà hàng h...</td>\n      <td>[0, 1339, 298, 1325, 9328, 258, 362, 36, 69, 1...</td>\n      <td>&lt;s&gt; bữa sáng ngon view đẹp cạnh nhiều nhà hàg ...</td>\n    </tr>\n    <tr>\n      <th>2</th>\n      <td>View đẹp Hành lang không sạch sẽ, mùi ẩm mốc</td>\n      <td>[0, 9328, 258, 3967, 17, 4767, 1602, 31631, 2,...</td>\n      <td>&lt;s&gt; view đẹp hành_lang không sạch_sẽ mùi ẩm_mố...</td>\n    </tr>\n    <tr>\n      <th>3</th>\n      <td>Nhân viên nhiệt tình, chu đáo, thân thiện. Phò...</td>\n      <td>[0, 650, 3857, 5655, 3188, 292, 1681, 258, 115...</td>\n      <td>&lt;s&gt; nhân_viên nhiệt_tình chu_đáo thân_thiện ph...</td>\n    </tr>\n    <tr>\n      <th>4</th>\n      <td>Nhân viên phục vụ ân cần, lịch sự. Không gian ...</td>\n      <td>[0, 650, 533, 13647, 8502, 1152, 15646, 9328, ...</td>\n      <td>&lt;s&gt; nhân_viên phục_vụ ân_cần lịch_sự không_gia...</td>\n    </tr>\n    <tr>\n      <th>5</th>\n      <td>Phòng có 2 vị trí cửa sổ ngắm về phía Đà Nẵng,...</td>\n      <td>[0, 292, 10, 76, 442, 4185, 2381, 28, 216, 622...</td>\n      <td>&lt;s&gt; phòng có 2 vị_trí cửa_sổ ngắm về phía đà_n...</td>\n    </tr>\n    <tr>\n      <th>6</th>\n      <td>Hai nhân viên lễ tân, có một nhân viên rất nhi...</td>\n      <td>[0, 82, 650, 17112, 10, 16, 650, 59, 3857, 50,...</td>\n      <td>&lt;s&gt; hai nhân_viên lễ_tân có một nhân_viên rất ...</td>\n    </tr>\n    <tr>\n      <th>7</th>\n      <td>Giường rộng thoải mái. Phòng đầy đủ tiện nghi....</td>\n      <td>[0, 2639, 720, 1937, 292, 997, 6689, 124, 262,...</td>\n      <td>&lt;s&gt; giường rộng thoải_mái phòng đầy_đủ tiện_ng...</td>\n    </tr>\n    <tr>\n      <th>8</th>\n      <td>Nhân viên thân thiện, nhiệt tình. Giá phòng hợ...</td>\n      <td>[0, 650, 3188, 3857, 133, 292, 1640, 5959, 57,...</td>\n      <td>&lt;s&gt; nhân_viên thân_thiện nhiệt_tình giá phòng ...</td>\n    </tr>\n    <tr>\n      <th>9</th>\n      <td>Gần biển và cũng gần trung tâm luôn. Mình thuê...</td>\n      <td>[0, 124, 262, 6, 32, 124, 591, 236, 68, 684, 9...</td>\n      <td>&lt;s&gt; gần biển và cũng gần trung_tâm luôn mình t...</td>\n    </tr>\n  </tbody>\n</table>\n</div>"
     },
     "metadata": {}
    }
   ]
  },
  {
   "cell_type": "markdown",
   "source": "# Extra Step for ACSA-v1 Solution",
   "metadata": {}
  },
  {
   "cell_type": "code",
   "source": "from datasets import load_from_disk\npreprocessed_datasets = load_from_disk('../datasets/preprocessed_hotel')\npreprocessed_datasets = VLSP2018Loader.labels_to_flatten_onehot(preprocessed_datasets)\npreprocessed_datasets",
   "metadata": {
    "execution": {
     "iopub.status.busy": "2024-10-20T02:55:11.909906Z",
     "iopub.execute_input": "2024-10-20T02:55:11.910822Z",
     "iopub.status.idle": "2024-10-20T02:55:15.316147Z",
     "shell.execute_reply.started": "2024-10-20T02:55:11.910775Z",
     "shell.execute_reply": "2024-10-20T02:55:15.315110Z"
    },
    "trusted": true
   },
   "execution_count": 39,
   "outputs": [
    {
     "name": "stdout",
     "text": "[INFO] Transforming \"Aspect#Categoy,Polarity\" labels to flattened one-hot encoding...\n",
     "output_type": "stream"
    },
    {
     "name": "stderr",
     "text": "/opt/conda/lib/python3.10/site-packages/multiprocess/popen_fork.py:66: RuntimeWarning: os.fork() was called. os.fork() is incompatible with multithreaded code, and JAX is multithreaded, so this will likely lead to a deadlock.\n  self.pid = os.fork()\n",
     "output_type": "stream"
    },
    {
     "output_type": "display_data",
     "data": {
      "text/plain": "Map (num_proc=8):   0%|          | 0/600 [00:00<?, ? examples/s]",
      "application/vnd.jupyter.widget-view+json": {
       "version_major": 2,
       "version_minor": 0,
       "model_id": "8b5decbe50e647f98314f1f3e1375900"
      }
     },
     "metadata": {}
    },
    {
     "name": "stderr",
     "text": "/opt/conda/lib/python3.10/site-packages/multiprocess/popen_fork.py:66: RuntimeWarning: os.fork() was called. os.fork() is incompatible with multithreaded code, and JAX is multithreaded, so this will likely lead to a deadlock.\n  self.pid = os.fork()\n",
     "output_type": "stream"
    },
    {
     "output_type": "display_data",
     "data": {
      "text/plain": "Map (num_proc=8):   0%|          | 0/600 [00:00<?, ? examples/s]",
      "application/vnd.jupyter.widget-view+json": {
       "version_major": 2,
       "version_minor": 0,
       "model_id": "0066dfcce26141709e5cc4314c061bad"
      }
     },
     "metadata": {}
    },
    {
     "output_type": "display_data",
     "data": {
      "text/plain": "Map (num_proc=8):   0%|          | 0/600 [00:00<?, ? examples/s]",
      "application/vnd.jupyter.widget-view+json": {
       "version_major": 2,
       "version_minor": 0,
       "model_id": "c58c725ad34a4264bf9ecb92ee345707"
      }
     },
     "metadata": {}
    },
    {
     "execution_count": 39,
     "output_type": "execute_result",
     "data": {
      "text/plain": "DatasetDict({\n    train: Dataset({\n        features: ['FlattenOneHotLabels', 'input_ids', 'token_type_ids', 'attention_mask'],\n        num_rows: 600\n    })\n    val: Dataset({\n        features: ['FlattenOneHotLabels', 'input_ids', 'token_type_ids', 'attention_mask'],\n        num_rows: 600\n    })\n    test: Dataset({\n        features: ['FlattenOneHotLabels', 'input_ids', 'token_type_ids', 'attention_mask'],\n        num_rows: 600\n    })\n})"
     },
     "metadata": {}
    }
   ]
  },
  {
   "cell_type": "code",
   "source": "print('Aspect#Category,Polarity in One-hot form of the first review:')\nexample_onehot = preprocessed_datasets['train'][0]['FlattenOneHotLabels']\nnp.array(example_onehot).reshape(-1, 4)",
   "metadata": {
    "execution": {
     "iopub.status.busy": "2024-10-20T02:55:21.054100Z",
     "iopub.execute_input": "2024-10-20T02:55:21.055350Z",
     "iopub.status.idle": "2024-10-20T02:55:21.065374Z",
     "shell.execute_reply.started": "2024-10-20T02:55:21.055295Z",
     "shell.execute_reply": "2024-10-20T02:55:21.064385Z"
    },
    "trusted": true
   },
   "execution_count": 40,
   "outputs": [
    {
     "name": "stdout",
     "text": "Aspect#Category,Polarity in One-hot form of the first review:\n",
     "output_type": "stream"
    },
    {
     "execution_count": 40,
     "output_type": "execute_result",
     "data": {
      "text/plain": "array([[1, 0, 0, 0],\n       [1, 0, 0, 0],\n       [1, 0, 0, 0],\n       [1, 0, 0, 0],\n       [1, 0, 0, 0],\n       [1, 0, 0, 0],\n       [1, 0, 0, 0],\n       [1, 0, 0, 0],\n       [1, 0, 0, 0],\n       [1, 0, 0, 0],\n       [1, 0, 0, 0],\n       [1, 0, 0, 0],\n       [1, 0, 0, 0],\n       [1, 0, 0, 0],\n       [1, 0, 0, 0],\n       [1, 0, 0, 0],\n       [1, 0, 0, 0],\n       [1, 0, 0, 0],\n       [1, 0, 0, 0],\n       [1, 0, 0, 0],\n       [1, 0, 0, 0],\n       [1, 0, 0, 0],\n       [1, 0, 0, 0],\n       [1, 0, 0, 0],\n       [1, 0, 0, 0],\n       [1, 0, 0, 0],\n       [0, 0, 1, 0],\n       [1, 0, 0, 0],\n       [1, 0, 0, 0],\n       [1, 0, 0, 0],\n       [1, 0, 0, 0],\n       [1, 0, 0, 0],\n       [1, 0, 0, 0],\n       [0, 0, 1, 0]])"
     },
     "metadata": {}
    }
   ]
  },
  {
   "cell_type": "markdown",
   "source": "# Prepare for Tensorflow Training",
   "metadata": {}
  },
  {
   "cell_type": "code",
   "source": "ASPECT_CATEGORY_NAMES = raw_datasets['train'].column_names[1:]\nsteps_per_epoch = len(preprocessed_datasets['train']) // BATCH_SIZE\ntotal_steps = EPOCHS * steps_per_epoch\nprint(ASPECT_CATEGORY_NAMES)",
   "metadata": {
    "execution": {
     "iopub.status.busy": "2024-10-20T02:55:29.249718Z",
     "iopub.execute_input": "2024-10-20T02:55:29.250421Z",
     "iopub.status.idle": "2024-10-20T02:55:29.256229Z",
     "shell.execute_reply.started": "2024-10-20T02:55:29.250381Z",
     "shell.execute_reply": "2024-10-20T02:55:29.255360Z"
    },
    "trusted": true
   },
   "execution_count": 41,
   "outputs": [
    {
     "name": "stdout",
     "text": "['FACILITIES#CLEANLINESS', 'FACILITIES#COMFORT', 'FACILITIES#DESIGN&FEATURES', 'FACILITIES#GENERAL', 'FACILITIES#MISCELLANEOUS', 'FACILITIES#PRICES', 'FACILITIES#QUALITY', 'FOOD&DRINKS#MISCELLANEOUS', 'FOOD&DRINKS#PRICES', 'FOOD&DRINKS#QUALITY', 'FOOD&DRINKS#STYLE&OPTIONS', 'HOTEL#CLEANLINESS', 'HOTEL#COMFORT', 'HOTEL#DESIGN&FEATURES', 'HOTEL#GENERAL', 'HOTEL#MISCELLANEOUS', 'HOTEL#PRICES', 'HOTEL#QUALITY', 'LOCATION#GENERAL', 'ROOMS#CLEANLINESS', 'ROOMS#COMFORT', 'ROOMS#DESIGN&FEATURES', 'ROOMS#GENERAL', 'ROOMS#MISCELLANEOUS', 'ROOMS#PRICES', 'ROOMS#QUALITY', 'ROOM_AMENITIES#CLEANLINESS', 'ROOM_AMENITIES#COMFORT', 'ROOM_AMENITIES#DESIGN&FEATURES', 'ROOM_AMENITIES#GENERAL', 'ROOM_AMENITIES#MISCELLANEOUS', 'ROOM_AMENITIES#PRICES', 'ROOM_AMENITIES#QUALITY', 'SERVICE#GENERAL']\n",
     "output_type": "stream"
    }
   ]
  },
  {
   "cell_type": "code",
   "source": "train_tf_dataset = preprocessed_datasets['train'].to_tf_dataset(\n    columns=tokenizer.model_input_names, label_cols='FlattenOneHotLabels',\n    batch_size=BATCH_SIZE, shuffle=True, num_workers=8\n)\nval_tf_dataset = preprocessed_datasets['val'].to_tf_dataset(\n    columns=tokenizer.model_input_names, label_cols='FlattenOneHotLabels',\n    batch_size=BATCH_SIZE, shuffle=False, num_workers=8\n)\ntest_tf_dataset = preprocessed_datasets['test'].to_tf_dataset(\n    columns=tokenizer.model_input_names, label_cols='FlattenOneHotLabels',\n    batch_size=BATCH_SIZE, shuffle=False, num_workers=8\n)",
   "metadata": {
    "execution": {
     "iopub.status.busy": "2024-10-20T02:55:38.102072Z",
     "iopub.execute_input": "2024-10-20T02:55:38.102752Z",
     "iopub.status.idle": "2024-10-20T02:55:38.258283Z",
     "shell.execute_reply.started": "2024-10-20T02:55:38.102710Z",
     "shell.execute_reply": "2024-10-20T02:55:38.257497Z"
    },
    "trusted": true
   },
   "execution_count": 43,
   "outputs": []
  },
  {
   "cell_type": "code",
   "source": "from tensorflow.keras.optimizers import Adam\nfrom tensorflow.keras.optimizers.schedules import CosineDecay\nfrom tensorflow.keras.callbacks import EarlyStopping\n\noptimizer = Adam(learning_rate=CosineDecay(\n    initial_learning_rate = 1e-4,\n    warmup_target = 2e-4,\n    warmup_steps = int(total_steps * 0.15), # 15% of total_steps\n    decay_steps = int(total_steps * 0.3), # Next 30% of total_steps\n    alpha = 0.1, # Minimum lr for decay as a fraction of initial_learning_rate\n))\n\nearly_stop_callback = EarlyStopping(\n    monitor = 'val_loss',\n    patience = 3, # Stop if no improvement after 3 epochs\n    restore_best_weights = True, # You may obtain HIGHER metrics on the test set with longer training time if you set this to False\n    # Because after some experiments, I found that even with higher val_loss, it still results in better metric reports on the test set. \n    # This maybe because the training set and the test set have more similarities than the validation data.\n    # But I think this is not fair, as we already have prior knowledge about the test set and we modified our training based on the performance on this set. \n    # In real-world, we should only modify our training based on the performance on the validation data\n    verbose = 1\n)",
   "metadata": {
    "execution": {
     "iopub.status.busy": "2024-10-20T02:55:43.523750Z",
     "iopub.execute_input": "2024-10-20T02:55:43.524135Z",
     "iopub.status.idle": "2024-10-20T02:55:43.603044Z",
     "shell.execute_reply.started": "2024-10-20T02:55:43.524102Z",
     "shell.execute_reply": "2024-10-20T02:55:43.602091Z"
    },
    "trusted": true
   },
   "execution_count": 44,
   "outputs": []
  },
  {
   "cell_type": "markdown",
   "source": "# Fine-tuning with Tensorflow",
   "metadata": {}
  },
  {
   "cell_type": "code",
   "source": "!pip install dropbox",
   "metadata": {
    "execution": {
     "iopub.status.busy": "2024-10-20T02:55:49.635670Z",
     "iopub.execute_input": "2024-10-20T02:55:49.636454Z",
     "iopub.status.idle": "2024-10-20T02:56:02.703573Z",
     "shell.execute_reply.started": "2024-10-20T02:55:49.636409Z",
     "shell.execute_reply": "2024-10-20T02:56:02.702381Z"
    },
    "trusted": true
   },
   "execution_count": 45,
   "outputs": [
    {
     "name": "stderr",
     "text": "/opt/conda/lib/python3.10/pty.py:89: RuntimeWarning: os.fork() was called. os.fork() is incompatible with multithreaded code, and JAX is multithreaded, so this will likely lead to a deadlock.\n  pid, fd = os.forkpty()\n",
     "output_type": "stream"
    },
    {
     "name": "stdout",
     "text": "Collecting dropbox\n  Downloading dropbox-12.0.2-py3-none-any.whl.metadata (4.3 kB)\nRequirement already satisfied: requests>=2.16.2 in /opt/conda/lib/python3.10/site-packages (from dropbox) (2.32.3)\nRequirement already satisfied: six>=1.12.0 in /opt/conda/lib/python3.10/site-packages (from dropbox) (1.16.0)\nCollecting stone<3.3.3,>=2 (from dropbox)\n  Downloading stone-3.3.1-py3-none-any.whl.metadata (8.0 kB)\nRequirement already satisfied: charset-normalizer<4,>=2 in /opt/conda/lib/python3.10/site-packages (from requests>=2.16.2->dropbox) (3.3.2)\nRequirement already satisfied: idna<4,>=2.5 in /opt/conda/lib/python3.10/site-packages (from requests>=2.16.2->dropbox) (3.7)\nRequirement already satisfied: urllib3<3,>=1.21.1 in /opt/conda/lib/python3.10/site-packages (from requests>=2.16.2->dropbox) (1.26.18)\nRequirement already satisfied: certifi>=2017.4.17 in /opt/conda/lib/python3.10/site-packages (from requests>=2.16.2->dropbox) (2024.8.30)\nCollecting ply>=3.4 (from stone<3.3.3,>=2->dropbox)\n  Downloading ply-3.11-py2.py3-none-any.whl.metadata (844 bytes)\nDownloading dropbox-12.0.2-py3-none-any.whl (572 kB)\n\u001B[2K   \u001B[90m━━━━━━━━━━━━━━━━━━━━━━━━━━━━━━━━━━━━━━━━\u001B[0m \u001B[32m572.1/572.1 kB\u001B[0m \u001B[31m12.7 MB/s\u001B[0m eta \u001B[36m0:00:00\u001B[0m00:01\u001B[0m\n\u001B[?25hDownloading stone-3.3.1-py3-none-any.whl (162 kB)\n\u001B[2K   \u001B[90m━━━━━━━━━━━━━━━━━━━━━━━━━━━━━━━━━━━━━━━━\u001B[0m \u001B[32m162.3/162.3 kB\u001B[0m \u001B[31m11.1 MB/s\u001B[0m eta \u001B[36m0:00:00\u001B[0m\n\u001B[?25hDownloading ply-3.11-py2.py3-none-any.whl (49 kB)\n\u001B[2K   \u001B[90m━━━━━━━━━━━━━━━━━━━━━━━━━━━━━━━━━━━━━━━━\u001B[0m \u001B[32m49.6/49.6 kB\u001B[0m \u001B[31m3.1 MB/s\u001B[0m eta \u001B[36m0:00:00\u001B[0m\n\u001B[?25hInstalling collected packages: ply, stone, dropbox\nSuccessfully installed dropbox-12.0.2 ply-3.11 stone-3.3.1\n",
     "output_type": "stream"
    }
   ]
  },
  {
   "cell_type": "code",
   "source": "%%time\nfrom acsa_model import VLSP2018MultiTask\nfrom helper import plot_training_history\nmodel = VLSP2018MultiTask(PRETRAINED_MODEL, ASPECT_CATEGORY_NAMES, optimizer, name=MODEL_NAME)\n\nhistory = model.fit(\n    train_tf_dataset,\n    validation_data = val_tf_dataset,\n    callbacks = [early_stop_callback],\n    epochs = EPOCHS,\n    verbose = 1\n).history",
   "metadata": {
    "execution": {
     "iopub.status.busy": "2024-10-20T02:56:17.905519Z",
     "iopub.execute_input": "2024-10-20T02:56:17.905971Z",
     "iopub.status.idle": "2024-10-20T02:58:30.763755Z",
     "shell.execute_reply.started": "2024-10-20T02:56:17.905931Z",
     "shell.execute_reply": "2024-10-20T02:58:30.762691Z"
    },
    "trusted": true
   },
   "execution_count": 46,
   "outputs": [
    {
     "output_type": "display_data",
     "data": {
      "text/plain": "tf_model.h5:   0%|          | 0.00/740M [00:00<?, ?B/s]",
      "application/vnd.jupyter.widget-view+json": {
       "version_major": 2,
       "version_minor": 0,
       "model_id": "b1cf4c943d654c04b5ec2c5cb0faaa3f"
      }
     },
     "metadata": {}
    },
    {
     "name": "stderr",
     "text": "Some layers from the model checkpoint at vinai/phobert-base were not used when initializing TFRobertaModel: ['lm_head']\n- This IS expected if you are initializing TFRobertaModel from the checkpoint of a model trained on another task or with another architecture (e.g. initializing a BertForSequenceClassification model from a BertForPreTraining model).\n- This IS NOT expected if you are initializing TFRobertaModel from the checkpoint of a model that you expect to be exactly identical (initializing a BertForSequenceClassification model from a BertForSequenceClassification model).\nAll the layers of TFRobertaModel were initialized from the model checkpoint at vinai/phobert-base.\nIf your task is similar to the task the model of the checkpoint was trained on, you can already use TFRobertaModel for predictions without further training.\n",
     "output_type": "stream"
    },
    {
     "name": "stdout",
     "text": "Epoch 1/3\n",
     "output_type": "stream"
    },
    {
     "name": "stderr",
     "text": "WARNING: All log messages before absl::InitializeLog() is called are written to STDERR\nI0000 00:00:1729393014.880708     986 service.cc:145] XLA service 0x78f350012c70 initialized for platform CUDA (this does not guarantee that XLA will be used). Devices:\nI0000 00:00:1729393014.880762     986 service.cc:153]   StreamExecutor device (0): Tesla P100-PCIE-16GB, Compute Capability 6.0\nW0000 00:00:1729393017.334527     986 assert_op.cc:38] Ignoring Assert operator Hotel-v1_1/tf_roberta_model/roberta/embeddings/assert_less/Assert/Assert\nI0000 00:00:1729393026.170170     986 device_compiler.h:188] Compiled cluster using XLA!  This line is logged at most once for the lifetime of the process.\n",
     "output_type": "stream"
    },
    {
     "name": "stdout",
     "text": "\u001B[1m4/5\u001B[0m \u001B[32m━━━━━━━━━━━━━━━━\u001B[0m\u001B[37m━━━━\u001B[0m \u001B[1m0s\u001B[0m 848ms/step - loss: 0.5535",
     "output_type": "stream"
    },
    {
     "name": "stderr",
     "text": "W0000 00:00:1729393030.491630     986 assert_op.cc:38] Ignoring Assert operator Hotel-v1_1/tf_roberta_model/roberta/embeddings/assert_less/Assert/Assert\n",
     "output_type": "stream"
    },
    {
     "name": "stdout",
     "text": "\u001B[1m5/5\u001B[0m \u001B[32m━━━━━━━━━━━━━━━━━━━━\u001B[0m\u001B[37m\u001B[0m \u001B[1m0s\u001B[0m 3s/step - loss: 0.5475   ",
     "output_type": "stream"
    },
    {
     "name": "stderr",
     "text": "W0000 00:00:1729393051.727891     985 assert_op.cc:38] Ignoring Assert operator Hotel-v1_1/tf_roberta_model/roberta/embeddings/assert_less/Assert/Assert\nW0000 00:00:1729393058.564335     987 assert_op.cc:38] Ignoring Assert operator Hotel-v1_1/tf_roberta_model/roberta/embeddings/assert_less/Assert/Assert\n",
     "output_type": "stream"
    },
    {
     "name": "stdout",
     "text": "\u001B[1m5/5\u001B[0m \u001B[32m━━━━━━━━━━━━━━━━━━━━\u001B[0m\u001B[37m\u001B[0m \u001B[1m78s\u001B[0m 9s/step - loss: 0.5434 - val_loss: 0.4703\nEpoch 2/3\n\u001B[1m5/5\u001B[0m \u001B[32m━━━━━━━━━━━━━━━━━━━━\u001B[0m\u001B[37m\u001B[0m \u001B[1m24s\u001B[0m 4s/step - loss: 0.4663 - val_loss: 0.4528\nEpoch 3/3\n\u001B[1m5/5\u001B[0m \u001B[32m━━━━━━━━━━━━━━━━━━━━\u001B[0m\u001B[37m\u001B[0m \u001B[1m24s\u001B[0m 4s/step - loss: 0.4488 - val_loss: 0.4358\nRestoring model weights from the end of the best epoch: 3.\nCPU times: user 1min 14s, sys: 2.4 s, total: 1min 16s\nWall time: 2min 12s\n",
     "output_type": "stream"
    }
   ]
  },
  {
   "cell_type": "code",
   "source": "import os\n\n# Directory where you want to save the model weights\nweights_dir = './weights/Hotel-v1/'\n\n# Check if the directory exists, if not, create it\nif not os.path.exists(weights_dir):\n    os.makedirs(weights_dir)\n\n# Now save the model weights\nmodel.save_weights(f'{weights_dir}/Hotel-v1.weights.h5')\n\n# Plot the training history\nplot_training_history(history)\n",
   "metadata": {
    "execution": {
     "iopub.status.busy": "2024-10-20T03:00:00.143572Z",
     "iopub.execute_input": "2024-10-20T03:00:00.144027Z",
     "iopub.status.idle": "2024-10-20T03:00:00.629827Z",
     "shell.execute_reply.started": "2024-10-20T03:00:00.143989Z",
     "shell.execute_reply": "2024-10-20T03:00:00.628838Z"
    },
    "trusted": true
   },
   "execution_count": 53,
   "outputs": [
    {
     "output_type": "display_data",
     "data": {
      "text/plain": "<Figure size 1500x500 with 1 Axes>",
      "image/png": "[encoded data removed]"
     },
     "metadata": {}
    }
   ]
  },
  {
   "cell_type": "code",
   "source": [
    "import dropbox\n",
    "\n",
    "DROPBOX_ACCESS_TOKEN = 'YOUR_ACCESS_TOKEN_HERE'\n",
    "dbx = dropbox.Dropbox(DROPBOX_ACCESS_TOKEN)\n",
    "\n",
    "file_weight_path = f'./weights/{MODEL_NAME}/{MODEL_NAME}.weights.h5'\n",
    "dropbox_destination_path = f'/Apps/VLSP2018/{MODEL_NAME}/weights.h5'\n",
    "\n",
    "with open(file_weight_path, 'rb') as f:\n",
    "    dbx.files_upload(f.read(), dropbox_destination_path, mute=True)\n",
    "\n",
    "print(f\"File '{file_weight_path}' uploaded successfully to Dropbox at '{dropbox_destination_path}'.\")"
   ],
   "metadata": {
    "execution": {
     "iopub.status.busy": "2024-10-20T03:02:43.376614Z",
     "iopub.execute_input": "2024-10-20T03:02:43.377661Z",
     "iopub.status.idle": "2024-10-20T03:02:44.985166Z",
     "shell.execute_reply.started": "2024-10-20T03:02:43.377606Z",
     "shell.execute_reply": "2024-10-20T03:02:44.984149Z"
    },
    "trusted": true
   },
   "execution_count": 57,
   "outputs": [
    {
     "name": "stdout",
     "text": "File './weights/Hotel-v1/Hotel-v1.weights.h5' uploaded successfully to Dropbox at '/Apps/VLSP2018/Hotel-v1/weights.h5'.\n",
     "output_type": "stream"
    }
   ]
  },
  {
   "cell_type": "markdown",
   "source": "# Predict on Test Data",
   "metadata": {}
  },
  {
   "cell_type": "code",
   "source": "from acsa_model import VLSP2018MultiTask\nreloaded_model = VLSP2018MultiTask(PRETRAINED_MODEL, ASPECT_CATEGORY_NAMES, optimizer, name=MODEL_NAME)\nreloaded_model.load_weights(f'./weights/{MODEL_NAME}/{MODEL_NAME}.weights.h5') # Reload the Model\nreloaded_model.evaluate(val_tf_dataset, batch_size=BATCH_SIZE, verbose=1)",
   "metadata": {
    "execution": {
     "iopub.status.busy": "2024-10-20T03:03:08.138160Z",
     "iopub.execute_input": "2024-10-20T03:03:08.138662Z",
     "iopub.status.idle": "2024-10-20T03:03:38.320128Z",
     "shell.execute_reply.started": "2024-10-20T03:03:08.138599Z",
     "shell.execute_reply": "2024-10-20T03:03:38.319127Z"
    },
    "trusted": true
   },
   "execution_count": 58,
   "outputs": [
    {
     "name": "stderr",
     "text": "Some layers from the model checkpoint at vinai/phobert-base were not used when initializing TFRobertaModel: ['lm_head']\n- This IS expected if you are initializing TFRobertaModel from the checkpoint of a model trained on another task or with another architecture (e.g. initializing a BertForSequenceClassification model from a BertForPreTraining model).\n- This IS NOT expected if you are initializing TFRobertaModel from the checkpoint of a model that you expect to be exactly identical (initializing a BertForSequenceClassification model from a BertForSequenceClassification model).\nAll the layers of TFRobertaModel were initialized from the model checkpoint at vinai/phobert-base.\nIf your task is similar to the task the model of the checkpoint was trained on, you can already use TFRobertaModel for predictions without further training.\nW0000 00:00:1729393406.541058     985 assert_op.cc:38] Ignoring Assert operator Hotel-v1_1/tf_roberta_model_1/roberta/embeddings/assert_less/Assert/Assert\n",
     "output_type": "stream"
    },
    {
     "name": "stdout",
     "text": "\u001B[1m4/5\u001B[0m \u001B[32m━━━━━━━━━━━━━━━━\u001B[0m\u001B[37m━━━━\u001B[0m \u001B[1m0s\u001B[0m 844ms/step - loss: 0.5631",
     "output_type": "stream"
    },
    {
     "name": "stderr",
     "text": "W0000 00:00:1729393413.476961     988 assert_op.cc:38] Ignoring Assert operator Hotel-v1_1/tf_roberta_model_1/roberta/embeddings/assert_less/Assert/Assert\n",
     "output_type": "stream"
    },
    {
     "name": "stdout",
     "text": "\u001B[1m5/5\u001B[0m \u001B[32m━━━━━━━━━━━━━━━━━━━━\u001B[0m\u001B[37m\u001B[0m \u001B[1m27s\u001B[0m 1s/step - loss: 0.5631\n",
     "output_type": "stream"
    },
    {
     "execution_count": 58,
     "output_type": "execute_result",
     "data": {
      "text/plain": "0.5632318258285522"
     },
     "metadata": {}
    }
   ]
  },
  {
   "cell_type": "code",
   "source": "y_pred = reloaded_model.acsa_predict(test_tf_dataset, BATCH_SIZE) # On test set\nreloaded_model.evaluate(test_tf_dataset, batch_size=BATCH_SIZE, verbose=1)\nprint('Example:', raw_datasets['test'][0]['Review'])\nreloaded_model.print_acsa_pred(y_pred[0])",
   "metadata": {
    "execution": {
     "iopub.status.busy": "2024-10-20T03:03:42.650123Z",
     "iopub.execute_input": "2024-10-20T03:03:42.650536Z",
     "iopub.status.idle": "2024-10-20T03:04:18.409927Z",
     "shell.execute_reply.started": "2024-10-20T03:03:42.650498Z",
     "shell.execute_reply": "2024-10-20T03:04:18.408821Z"
    },
    "trusted": true
   },
   "execution_count": 59,
   "outputs": [
    {
     "name": "stderr",
     "text": "W0000 00:00:1729393434.197336     986 assert_op.cc:38] Ignoring Assert operator Hotel-v1_1/tf_roberta_model_1/roberta/embeddings/assert_less/Assert/Assert\n",
     "output_type": "stream"
    },
    {
     "name": "stdout",
     "text": "\u001B[1m4/5\u001B[0m \u001B[32m━━━━━━━━━━━━━━━━\u001B[0m\u001B[37m━━━━\u001B[0m \u001B[1m0s\u001B[0m 842ms/step",
     "output_type": "stream"
    },
    {
     "name": "stderr",
     "text": "W0000 00:00:1729393442.593930     985 assert_op.cc:38] Ignoring Assert operator Hotel-v1_1/tf_roberta_model_1/roberta/embeddings/assert_less/Assert/Assert\n",
     "output_type": "stream"
    },
    {
     "name": "stdout",
     "text": "\u001B[1m5/5\u001B[0m \u001B[32m━━━━━━━━━━━━━━━━━━━━\u001B[0m\u001B[37m\u001B[0m \u001B[1m23s\u001B[0m 2s/step \n\u001B[1m5/5\u001B[0m \u001B[32m━━━━━━━━━━━━━━━━━━━━\u001B[0m\u001B[37m\u001B[0m \u001B[1m12s\u001B[0m 782ms/step - loss: 0.5631\nExample: Ga giường không sạch, nhân viên quên dọn phòng một ngày.\n=> FACILITIES#CLEANLINESS,positive\n=> FACILITIES#COMFORT,neutral\n=> FACILITIES#DESIGN&FEATURES,neutral\n=> FACILITIES#GENERAL,neutral\n=> FACILITIES#PRICES,negative\n=> FACILITIES#QUALITY,positive\n=> FOOD&DRINKS#MISCELLANEOUS,negative\n=> FOOD&DRINKS#PRICES,positive\n=> FOOD&DRINKS#QUALITY,negative\n=> HOTEL#COMFORT,neutral\n=> HOTEL#GENERAL,neutral\n=> HOTEL#MISCELLANEOUS,positive\n=> HOTEL#PRICES,neutral\n=> HOTEL#QUALITY,positive\n=> LOCATION#GENERAL,neutral\n=> ROOMS#CLEANLINESS,positive\n=> ROOMS#COMFORT,negative\n=> ROOMS#DESIGN&FEATURES,negative\n=> ROOMS#GENERAL,positive\n=> ROOMS#QUALITY,neutral\n=> ROOM_AMENITIES#CLEANLINESS,positive\n=> ROOM_AMENITIES#DESIGN&FEATURES,negative\n=> ROOM_AMENITIES#GENERAL,neutral\n=> ROOM_AMENITIES#MISCELLANEOUS,negative\n=> ROOM_AMENITIES#PRICES,positive\n=> SERVICE#GENERAL,positive\n",
     "output_type": "stream"
    }
   ]
  },
  {
   "cell_type": "code",
   "source": "from tensorflow.data import Dataset # On a random review by user\nrandom_input = VLSP2018Loader.preprocess_and_tokenize(\n    input('Enter your review: '), vn_preprocessor, tokenizer,\n    batch_size=1, max_length=MAX_LENGTH\n)\ntf_inputs = Dataset.from_tensor_slices({x: [[random_input[x][0]]] for x in tokenizer.model_input_names})\nrandom_pred = reloaded_model.acsa_predict(tf_inputs)\nreloaded_model.print_acsa_pred(random_pred[0])",
   "metadata": {
    "execution": {
     "iopub.status.busy": "2024-10-20T03:11:33.284912Z",
     "iopub.status.idle": "2024-10-20T03:11:33.285265Z",
     "shell.execute_reply.started": "2024-10-20T03:11:33.285090Z",
     "shell.execute_reply": "2024-10-20T03:11:33.285108Z"
    },
    "trusted": true
   },
   "execution_count": null,
   "outputs": []
  },
  {
   "cell_type": "markdown",
   "source": "# Scikit-learn evaluation",
   "metadata": {}
  },
  {
   "cell_type": "code",
   "source": "from helper import argmax_label_matrix\ny_test = argmax_label_matrix(preprocessed_datasets['test']['FlattenOneHotLabels'])\ny_test",
   "metadata": {
    "execution": {
     "iopub.status.busy": "2024-10-20T03:11:35.905728Z",
     "iopub.execute_input": "2024-10-20T03:11:35.906122Z",
     "iopub.status.idle": "2024-10-20T03:11:35.971488Z",
     "shell.execute_reply.started": "2024-10-20T03:11:35.906085Z",
     "shell.execute_reply": "2024-10-20T03:11:35.970504Z"
    },
    "trusted": true
   },
   "execution_count": 61,
   "outputs": [
    {
     "execution_count": 61,
     "output_type": "execute_result",
     "data": {
      "text/plain": "array([[0, 0, 0, ..., 0, 0, 2],\n       [0, 0, 0, ..., 0, 0, 1],\n       [0, 0, 0, ..., 0, 0, 0],\n       ...,\n       [0, 0, 0, ..., 0, 0, 1],\n       [0, 0, 0, ..., 0, 0, 1],\n       [0, 0, 0, ..., 0, 0, 0]])"
     },
     "metadata": {}
    }
   ]
  },
  {
   "cell_type": "code",
   "source": "from evaluators.sklearn_evaluator import VLSP2018SklearnEvaluator\nsk_eval = VLSP2018SklearnEvaluator(y_test, y_pred, ASPECT_CATEGORY_NAMES)\n# sk_eval.report(report_type='Aspect#Category,Polarity').round(3)\n# sk_eval.report(report_type='Aspect#Category').round(3)\n# sk_eval.report(report_type='Polarity').round(3)\n# sk_eval.report(report_type='macro_avg').round(3)\nsk_eval.report(report_type='all')",
   "metadata": {
    "execution": {
     "iopub.status.busy": "2024-10-20T03:11:38.917897Z",
     "iopub.execute_input": "2024-10-20T03:11:38.918302Z",
     "iopub.status.idle": "2024-10-20T03:11:40.048487Z",
     "shell.execute_reply.started": "2024-10-20T03:11:38.918264Z",
     "shell.execute_reply": "2024-10-20T03:11:40.047533Z"
    },
    "trusted": true
   },
   "execution_count": 62,
   "outputs": [
    {
     "name": "stderr",
     "text": "100%|██████████| 37/37 [00:00<00:00, 40785.61it/s]\n",
     "output_type": "stream"
    },
    {
     "output_type": "display_data",
     "data": {
      "text/html": "\n            <div style=\"display: flex; align-items: flex-start; flex-wrap: nowrap\">\n                <table style=\"margin-right: 10px\">\n            <tr>\n                <th style=\"font-weight: bold; text-align: center;\" rowspan=\"2\">ACSA Report (w/o \"None\" polarity)</th>\n                <th style=\"font-weight: bold; text-align: center;\" colspan=\"4\">Aspect#Category</th>\n                <th style=\"font-weight: bold; text-align: center;\" colspan=\"4\">Aspect#Category,Polarity</th>\n            </tr>\n            <tr>\n                <th>precision</th><th>recall</th><th>f1-score</th><th>support</th><th>precision</th><th>recall</th><th>f1-score</th><th>support</th>\n            </tr>\n        \n                    <tr>\n                        <td>FACILITIES#CLEANLINESS,positive</td>\n                        <td rowspan=\"3\">0.009</td><td rowspan=\"3\">0.800</td><td rowspan=\"3\">0.019</td><td rowspan=\"3\">5</td>\n                        <td>0.003</td><td>0.500</td><td>0.006</td><td>2</td>\n                    </tr>\n                \n                    <tr>\n                        <td>FACILITIES#CLEANLINESS,neutral</td>\n                        \n                        <td>0.000</td><td>1.000</td><td>0.000</td><td>0</td>\n                    </tr>\n                \n                    <tr>\n                        <td>FACILITIES#CLEANLINESS,negative</td>\n                        \n                        <td>0.000</td><td>0.000</td><td>0.000</td><td>3</td>\n                    </tr>\n                \n                    <tr>\n                        <td>FACILITIES#COMFORT,positive</td>\n                        <td rowspan=\"3\">0.042</td><td rowspan=\"3\">0.962</td><td rowspan=\"3\">0.081</td><td rowspan=\"3\">26</td>\n                        <td>0.000</td><td>0.000</td><td>0.000</td><td>20</td>\n                    </tr>\n                \n                    <tr>\n                        <td>FACILITIES#COMFORT,neutral</td>\n                        \n                        <td>0.000</td><td>1.000</td><td>0.000</td><td>0</td>\n                    </tr>\n                \n                    <tr>\n                        <td>FACILITIES#COMFORT,negative</td>\n                        \n                        <td>0.010</td><td>0.167</td><td>0.019</td><td>6</td>\n                    </tr>\n                \n                    <tr>\n                        <td>FACILITIES#DESIGN&FEATURES,positive</td>\n                        <td rowspan=\"3\">0.107</td><td rowspan=\"3\">0.938</td><td rowspan=\"3\">0.192</td><td rowspan=\"3\">65</td>\n                        <td>0.083</td><td>0.658</td><td>0.147</td><td>38</td>\n                    </tr>\n                \n                    <tr>\n                        <td>FACILITIES#DESIGN&FEATURES,neutral</td>\n                        \n                        <td>0.008</td><td>0.400</td><td>0.015</td><td>5</td>\n                    </tr>\n                \n                    <tr>\n                        <td>FACILITIES#DESIGN&FEATURES,negative</td>\n                        \n                        <td>0.000</td><td>0.000</td><td>0.000</td><td>22</td>\n                    </tr>\n                \n                    <tr>\n                        <td>FACILITIES#GENERAL,positive</td>\n                        <td rowspan=\"3\">0.035</td><td rowspan=\"3\">0.905</td><td rowspan=\"3\">0.067</td><td rowspan=\"3\">21</td>\n                        <td>0.028</td><td>0.421</td><td>0.053</td><td>19</td>\n                    </tr>\n                \n                    <tr>\n                        <td>FACILITIES#GENERAL,neutral</td>\n                        \n                        <td>0.000</td><td>0.000</td><td>0.000</td><td>1</td>\n                    </tr>\n                \n                    <tr>\n                        <td>FACILITIES#GENERAL,negative</td>\n                        \n                        <td>0.000</td><td>0.000</td><td>0.000</td><td>1</td>\n                    </tr>\n                \n                    <tr>\n                        <td>FACILITIES#MISCELLANEOUS,positive</td>\n                        <td rowspan=\"3\">0.000</td><td rowspan=\"3\">0.000</td><td rowspan=\"3\">0.000</td><td rowspan=\"3\">8</td>\n                        <td>0.000</td><td>0.000</td><td>0.000</td><td>3</td>\n                    </tr>\n                \n                    <tr>\n                        <td>FACILITIES#MISCELLANEOUS,neutral</td>\n                        \n                        <td>0.000</td><td>1.000</td><td>0.000</td><td>0</td>\n                    </tr>\n                \n                    <tr>\n                        <td>FACILITIES#MISCELLANEOUS,negative</td>\n                        \n                        <td>0.000</td><td>0.000</td><td>0.000</td><td>5</td>\n                    </tr>\n                \n                    <tr>\n                        <td>FACILITIES#PRICES,positive</td>\n                        <td rowspan=\"3\">0.028</td><td rowspan=\"3\">0.462</td><td rowspan=\"3\">0.053</td><td rowspan=\"3\">13</td>\n                        <td>0.000</td><td>0.000</td><td>0.000</td><td>8</td>\n                    </tr>\n                \n                    <tr>\n                        <td>FACILITIES#PRICES,neutral</td>\n                        \n                        <td>0.000</td><td>0.000</td><td>0.000</td><td>2</td>\n                    </tr>\n                \n                    <tr>\n                        <td>FACILITIES#PRICES,negative</td>\n                        \n                        <td>0.005</td><td>0.333</td><td>0.011</td><td>3</td>\n                    </tr>\n                \n                    <tr>\n                        <td>FACILITIES#QUALITY,positive</td>\n                        <td rowspan=\"3\">0.083</td><td rowspan=\"3\">0.863</td><td rowspan=\"3\">0.151</td><td rowspan=\"3\">51</td>\n                        <td>0.038</td><td>0.667</td><td>0.071</td><td>24</td>\n                    </tr>\n                \n                    <tr>\n                        <td>FACILITIES#QUALITY,neutral</td>\n                        \n                        <td>0.000</td><td>0.000</td><td>0.000</td><td>2</td>\n                    </tr>\n                \n                    <tr>\n                        <td>FACILITIES#QUALITY,negative</td>\n                        \n                        <td>0.000</td><td>0.000</td><td>0.000</td><td>25</td>\n                    </tr>\n                \n                    <tr>\n                        <td>FOOD&DRINKS#MISCELLANEOUS,positive</td>\n                        <td rowspan=\"3\">0.006</td><td rowspan=\"3\">1.000</td><td rowspan=\"3\">0.012</td><td rowspan=\"3\">3</td>\n                        <td>0.019</td><td>1.000</td><td>0.037</td><td>1</td>\n                    </tr>\n                \n                    <tr>\n                        <td>FOOD&DRINKS#MISCELLANEOUS,neutral</td>\n                        \n                        <td>0.000</td><td>1.000</td><td>0.000</td><td>0</td>\n                    </tr>\n                \n                    <tr>\n                        <td>FOOD&DRINKS#MISCELLANEOUS,negative</td>\n                        \n                        <td>0.005</td><td>1.000</td><td>0.009</td><td>2</td>\n                    </tr>\n                \n                    <tr>\n                        <td>FOOD&DRINKS#PRICES,positive</td>\n                        <td rowspan=\"3\">0.015</td><td rowspan=\"3\">1.000</td><td rowspan=\"3\">0.030</td><td rowspan=\"3\">9</td>\n                        <td>0.000</td><td>0.000</td><td>0.000</td><td>6</td>\n                    </tr>\n                \n                    <tr>\n                        <td>FOOD&DRINKS#PRICES,neutral</td>\n                        \n                        <td>0.000</td><td>1.000</td><td>0.000</td><td>0</td>\n                    </tr>\n                \n                    <tr>\n                        <td>FOOD&DRINKS#PRICES,negative</td>\n                        \n                        <td>0.002</td><td>0.333</td><td>0.004</td><td>3</td>\n                    </tr>\n                \n                    <tr>\n                        <td>FOOD&DRINKS#QUALITY,positive</td>\n                        <td rowspan=\"3\">0.215</td><td rowspan=\"3\">0.457</td><td rowspan=\"3\">0.292</td><td rowspan=\"3\">129</td>\n                        <td>0.067</td><td>0.010</td><td>0.018</td><td>96</td>\n                    </tr>\n                \n                    <tr>\n                        <td>FOOD&DRINKS#QUALITY,neutral</td>\n                        \n                        <td>0.048</td><td>0.143</td><td>0.071</td><td>14</td>\n                    </tr>\n                \n                    <tr>\n                        <td>FOOD&DRINKS#QUALITY,negative</td>\n                        \n                        <td>0.037</td><td>0.421</td><td>0.068</td><td>19</td>\n                    </tr>\n                \n                    <tr>\n                        <td>FOOD&DRINKS#STYLE&OPTIONS,positive</td>\n                        <td rowspan=\"3\">0.073</td><td rowspan=\"3\">0.024</td><td rowspan=\"3\">0.036</td><td rowspan=\"3\">124</td>\n                        <td>0.000</td><td>0.000</td><td>0.000</td><td>43</td>\n                    </tr>\n                \n                    <tr>\n                        <td>FOOD&DRINKS#STYLE&OPTIONS,neutral</td>\n                        \n                        <td>0.000</td><td>0.000</td><td>0.000</td><td>6</td>\n                    </tr>\n                \n                    <tr>\n                        <td>FOOD&DRINKS#STYLE&OPTIONS,negative</td>\n                        \n                        <td>0.083</td><td>0.013</td><td>0.023</td><td>75</td>\n                    </tr>\n                \n                    <tr>\n                        <td>HOTEL#CLEANLINESS,positive</td>\n                        <td rowspan=\"3\">0.054</td><td rowspan=\"3\">0.030</td><td rowspan=\"3\">0.038</td><td rowspan=\"3\">67</td>\n                        <td>1.000</td><td>0.000</td><td>0.000</td><td>59</td>\n                    </tr>\n                \n                    <tr>\n                        <td>HOTEL#CLEANLINESS,neutral</td>\n                        \n                        <td>0.000</td><td>1.000</td><td>0.000</td><td>0</td>\n                    </tr>\n                \n                    <tr>\n                        <td>HOTEL#CLEANLINESS,negative</td>\n                        \n                        <td>0.000</td><td>0.000</td><td>0.000</td><td>8</td>\n                    </tr>\n                \n                    <tr>\n                        <td>HOTEL#COMFORT,positive</td>\n                        <td rowspan=\"3\">0.157</td><td rowspan=\"3\">1.000</td><td rowspan=\"3\">0.271</td><td rowspan=\"3\">94</td>\n                        <td>1.000</td><td>0.000</td><td>0.000</td><td>80</td>\n                    </tr>\n                \n                    <tr>\n                        <td>HOTEL#COMFORT,neutral</td>\n                        \n                        <td>0.002</td><td>1.000</td><td>0.003</td><td>1</td>\n                    </tr>\n                \n                    <tr>\n                        <td>HOTEL#COMFORT,negative</td>\n                        \n                        <td>0.000</td><td>0.000</td><td>0.000</td><td>13</td>\n                    </tr>\n                \n                    <tr>\n                        <td>HOTEL#DESIGN&FEATURES,positive</td>\n                        <td rowspan=\"3\">0.179</td><td rowspan=\"3\">0.118</td><td rowspan=\"3\">0.142</td><td rowspan=\"3\">85</td>\n                        <td>0.182</td><td>0.135</td><td>0.155</td><td>74</td>\n                    </tr>\n                \n                    <tr>\n                        <td>HOTEL#DESIGN&FEATURES,neutral</td>\n                        \n                        <td>0.000</td><td>0.000</td><td>0.000</td><td>3</td>\n                    </tr>\n                \n                    <tr>\n                        <td>HOTEL#DESIGN&FEATURES,negative</td>\n                        \n                        <td>1.000</td><td>0.000</td><td>0.000</td><td>8</td>\n                    </tr>\n                \n                    <tr>\n                        <td>HOTEL#GENERAL,positive</td>\n                        <td rowspan=\"3\">0.252</td><td rowspan=\"3\">1.000</td><td rowspan=\"3\">0.402</td><td rowspan=\"3\">151</td>\n                        <td>0.200</td><td>0.015</td><td>0.028</td><td>135</td>\n                    </tr>\n                \n                    <tr>\n                        <td>HOTEL#GENERAL,neutral</td>\n                        \n                        <td>0.007</td><td>1.000</td><td>0.015</td><td>4</td>\n                    </tr>\n                \n                    <tr>\n                        <td>HOTEL#GENERAL,negative</td>\n                        \n                        <td>0.043</td><td>0.167</td><td>0.069</td><td>12</td>\n                    </tr>\n                \n                    <tr>\n                        <td>HOTEL#MISCELLANEOUS,positive</td>\n                        <td rowspan=\"3\">0.083</td><td rowspan=\"3\">0.471</td><td rowspan=\"3\">0.141</td><td rowspan=\"3\">68</td>\n                        <td>0.061</td><td>0.414</td><td>0.106</td><td>29</td>\n                    </tr>\n                \n                    <tr>\n                        <td>HOTEL#MISCELLANEOUS,neutral</td>\n                        \n                        <td>0.026</td><td>0.200</td><td>0.047</td><td>5</td>\n                    </tr>\n                \n                    <tr>\n                        <td>HOTEL#MISCELLANEOUS,negative</td>\n                        \n                        <td>0.020</td><td>0.088</td><td>0.032</td><td>34</td>\n                    </tr>\n                \n                    <tr>\n                        <td>HOTEL#PRICES,positive</td>\n                        <td rowspan=\"3\">0.118</td><td rowspan=\"3\">0.972</td><td rowspan=\"3\">0.210</td><td rowspan=\"3\">71</td>\n                        <td>0.126</td><td>0.206</td><td>0.157</td><td>63</td>\n                    </tr>\n                \n                    <tr>\n                        <td>HOTEL#PRICES,neutral</td>\n                        \n                        <td>0.004</td><td>1.000</td><td>0.008</td><td>2</td>\n                    </tr>\n                \n                    <tr>\n                        <td>HOTEL#PRICES,negative</td>\n                        \n                        <td>0.000</td><td>0.000</td><td>0.000</td><td>6</td>\n                    </tr>\n                \n                    <tr>\n                        <td>HOTEL#QUALITY,positive</td>\n                        <td rowspan=\"3\">0.022</td><td rowspan=\"3\">1.000</td><td rowspan=\"3\">0.043</td><td rowspan=\"3\">13</td>\n                        <td>0.012</td><td>1.000</td><td>0.023</td><td>7</td>\n                    </tr>\n                \n                    <tr>\n                        <td>HOTEL#QUALITY,neutral</td>\n                        \n                        <td>1.000</td><td>0.000</td><td>0.000</td><td>1</td>\n                    </tr>\n                \n                    <tr>\n                        <td>HOTEL#QUALITY,negative</td>\n                        \n                        <td>0.000</td><td>0.000</td><td>0.000</td><td>5</td>\n                    </tr>\n                \n                    <tr>\n                        <td>LOCATION#GENERAL,positive</td>\n                        <td rowspan=\"3\">0.366</td><td rowspan=\"3\">0.986</td><td rowspan=\"3\">0.534</td><td rowspan=\"3\">221</td>\n                        <td>0.000</td><td>0.000</td><td>0.000</td><td>190</td>\n                    </tr>\n                \n                    <tr>\n                        <td>LOCATION#GENERAL,neutral</td>\n                        \n                        <td>0.023</td><td>0.800</td><td>0.046</td><td>15</td>\n                    </tr>\n                \n                    <tr>\n                        <td>LOCATION#GENERAL,negative</td>\n                        \n                        <td>0.024</td><td>0.125</td><td>0.041</td><td>16</td>\n                    </tr>\n                \n                    <tr>\n                        <td>ROOMS#CLEANLINESS,positive</td>\n                        <td rowspan=\"3\">0.336</td><td rowspan=\"3\">1.000</td><td rowspan=\"3\">0.503</td><td rowspan=\"3\">200</td>\n                        <td>0.241</td><td>0.524</td><td>0.330</td><td>166</td>\n                    </tr>\n                \n                    <tr>\n                        <td>ROOMS#CLEANLINESS,neutral</td>\n                        \n                        <td>0.000</td><td>0.000</td><td>0.000</td><td>7</td>\n                    </tr>\n                \n                    <tr>\n                        <td>ROOMS#CLEANLINESS,negative</td>\n                        \n                        <td>0.059</td><td>0.481</td><td>0.105</td><td>27</td>\n                    </tr>\n                \n                    <tr>\n                        <td>ROOMS#COMFORT,positive</td>\n                        <td rowspan=\"3\">0.145</td><td rowspan=\"3\">0.581</td><td rowspan=\"3\">0.232</td><td rowspan=\"3\">93</td>\n                        <td>0.062</td><td>0.067</td><td>0.065</td><td>60</td>\n                    </tr>\n                \n                    <tr>\n                        <td>ROOMS#COMFORT,neutral</td>\n                        \n                        <td>0.000</td><td>0.000</td><td>0.000</td><td>2</td>\n                    </tr>\n                \n                    <tr>\n                        <td>ROOMS#COMFORT,negative</td>\n                        \n                        <td>0.043</td><td>0.323</td><td>0.076</td><td>31</td>\n                    </tr>\n                \n                    <tr>\n                        <td>ROOMS#DESIGN&FEATURES,positive</td>\n                        <td rowspan=\"3\">0.330</td><td rowspan=\"3\">1.000</td><td rowspan=\"3\">0.496</td><td rowspan=\"3\">198</td>\n                        <td>0.089</td><td>0.037</td><td>0.052</td><td>109</td>\n                    </tr>\n                \n                    <tr>\n                        <td>ROOMS#DESIGN&FEATURES,neutral</td>\n                        \n                        <td>0.000</td><td>0.000</td><td>0.000</td><td>21</td>\n                    </tr>\n                \n                    <tr>\n                        <td>ROOMS#DESIGN&FEATURES,negative</td>\n                        \n                        <td>0.116</td><td>0.941</td><td>0.206</td><td>68</td>\n                    </tr>\n                \n                    <tr>\n                        <td>ROOMS#GENERAL,positive</td>\n                        <td rowspan=\"3\">0.103</td><td rowspan=\"3\">0.404</td><td rowspan=\"3\">0.164</td><td rowspan=\"3\">57</td>\n                        <td>0.069</td><td>0.357</td><td>0.116</td><td>42</td>\n                    </tr>\n                \n                    <tr>\n                        <td>ROOMS#GENERAL,neutral</td>\n                        \n                        <td>0.000</td><td>0.000</td><td>0.000</td><td>5</td>\n                    </tr>\n                \n                    <tr>\n                        <td>ROOMS#GENERAL,negative</td>\n                        \n                        <td>0.000</td><td>0.000</td><td>0.000</td><td>10</td>\n                    </tr>\n                \n                    <tr>\n                        <td>ROOMS#MISCELLANEOUS,positive</td>\n                        <td rowspan=\"3\">0.000</td><td rowspan=\"3\">0.000</td><td rowspan=\"3\">0.000</td><td rowspan=\"3\">4</td>\n                        <td>0.000</td><td>0.000</td><td>0.000</td><td>2</td>\n                    </tr>\n                \n                    <tr>\n                        <td>ROOMS#MISCELLANEOUS,neutral</td>\n                        \n                        <td>0.000</td><td>0.000</td><td>0.000</td><td>1</td>\n                    </tr>\n                \n                    <tr>\n                        <td>ROOMS#MISCELLANEOUS,negative</td>\n                        \n                        <td>0.000</td><td>0.000</td><td>0.000</td><td>1</td>\n                    </tr>\n                \n                    <tr>\n                        <td>ROOMS#PRICES,positive</td>\n                        <td rowspan=\"3\">0.055</td><td rowspan=\"3\">0.517</td><td rowspan=\"3\">0.099</td><td rowspan=\"3\">29</td>\n                        <td>0.020</td><td>0.143</td><td>0.036</td><td>21</td>\n                    </tr>\n                \n                    <tr>\n                        <td>ROOMS#PRICES,neutral</td>\n                        \n                        <td>0.000</td><td>1.000</td><td>0.000</td><td>0</td>\n                    </tr>\n                \n                    <tr>\n                        <td>ROOMS#PRICES,negative</td>\n                        \n                        <td>1.000</td><td>0.000</td><td>0.000</td><td>8</td>\n                    </tr>\n                \n                    <tr>\n                        <td>ROOMS#QUALITY,positive</td>\n                        <td rowspan=\"3\">0.016</td><td rowspan=\"3\">0.500</td><td rowspan=\"3\">0.031</td><td rowspan=\"3\">10</td>\n                        <td>1.000</td><td>0.000</td><td>0.000</td><td>8</td>\n                    </tr>\n                \n                    <tr>\n                        <td>ROOMS#QUALITY,neutral</td>\n                        \n                        <td>0.000</td><td>1.000</td><td>0.000</td><td>0</td>\n                    </tr>\n                \n                    <tr>\n                        <td>ROOMS#QUALITY,negative</td>\n                        \n                        <td>0.000</td><td>0.000</td><td>0.000</td><td>2</td>\n                    </tr>\n                \n                    <tr>\n                        <td>ROOM_AMENITIES#CLEANLINESS,positive</td>\n                        <td rowspan=\"3\">0.077</td><td rowspan=\"3\">1.000</td><td rowspan=\"3\">0.143</td><td rowspan=\"3\">46</td>\n                        <td>0.034</td><td>1.000</td><td>0.066</td><td>17</td>\n                    </tr>\n                \n                    <tr>\n                        <td>ROOM_AMENITIES#CLEANLINESS,neutral</td>\n                        \n                        <td>0.000</td><td>1.000</td><td>0.000</td><td>0</td>\n                    </tr>\n                \n                    <tr>\n                        <td>ROOM_AMENITIES#CLEANLINESS,negative</td>\n                        \n                        <td>0.060</td><td>0.103</td><td>0.076</td><td>29</td>\n                    </tr>\n                \n                    <tr>\n                        <td>ROOM_AMENITIES#COMFORT,positive</td>\n                        <td rowspan=\"3\">0.133</td><td rowspan=\"3\">0.059</td><td rowspan=\"3\">0.082</td><td rowspan=\"3\">68</td>\n                        <td>0.000</td><td>0.000</td><td>0.000</td><td>44</td>\n                    </tr>\n                \n                    <tr>\n                        <td>ROOM_AMENITIES#COMFORT,neutral</td>\n                        \n                        <td>1.000</td><td>0.000</td><td>0.000</td><td>3</td>\n                    </tr>\n                \n                    <tr>\n                        <td>ROOM_AMENITIES#COMFORT,negative</td>\n                        \n                        <td>0.000</td><td>0.000</td><td>0.000</td><td>21</td>\n                    </tr>\n                \n                    <tr>\n                        <td>ROOM_AMENITIES#DESIGN&FEATURES,positive</td>\n                        <td rowspan=\"3\">0.243</td><td rowspan=\"3\">0.938</td><td rowspan=\"3\">0.386</td><td rowspan=\"3\">144</td>\n                        <td>0.058</td><td>0.091</td><td>0.071</td><td>33</td>\n                    </tr>\n                \n                    <tr>\n                        <td>ROOM_AMENITIES#DESIGN&FEATURES,neutral</td>\n                        \n                        <td>0.000</td><td>0.000</td><td>0.000</td><td>5</td>\n                    </tr>\n                \n                    <tr>\n                        <td>ROOM_AMENITIES#DESIGN&FEATURES,negative</td>\n                        \n                        <td>0.178</td><td>0.840</td><td>0.294</td><td>106</td>\n                    </tr>\n                \n                    <tr>\n                        <td>ROOM_AMENITIES#GENERAL,positive</td>\n                        <td rowspan=\"3\">0.053</td><td rowspan=\"3\">0.938</td><td rowspan=\"3\">0.101</td><td rowspan=\"3\">32</td>\n                        <td>0.091</td><td>0.032</td><td>0.048</td><td>31</td>\n                    </tr>\n                \n                    <tr>\n                        <td>ROOM_AMENITIES#GENERAL,neutral</td>\n                        \n                        <td>0.000</td><td>1.000</td><td>0.000</td><td>0</td>\n                    </tr>\n                \n                    <tr>\n                        <td>ROOM_AMENITIES#GENERAL,negative</td>\n                        \n                        <td>0.000</td><td>0.000</td><td>0.000</td><td>1</td>\n                    </tr>\n                \n                    <tr>\n                        <td>ROOM_AMENITIES#MISCELLANEOUS,positive</td>\n                        <td rowspan=\"3\">0.005</td><td rowspan=\"3\">1.000</td><td rowspan=\"3\">0.010</td><td rowspan=\"3\">3</td>\n                        <td>0.000</td><td>1.000</td><td>0.000</td><td>0</td>\n                    </tr>\n                \n                    <tr>\n                        <td>ROOM_AMENITIES#MISCELLANEOUS,neutral</td>\n                        \n                        <td>0.000</td><td>1.000</td><td>0.000</td><td>0</td>\n                    </tr>\n                \n                    <tr>\n                        <td>ROOM_AMENITIES#MISCELLANEOUS,negative</td>\n                        \n                        <td>0.005</td><td>1.000</td><td>0.010</td><td>3</td>\n                    </tr>\n                \n                    <tr>\n                        <td>ROOM_AMENITIES#PRICES,positive</td>\n                        <td rowspan=\"3\">0.002</td><td rowspan=\"3\">1.000</td><td rowspan=\"3\">0.004</td><td rowspan=\"3\">1</td>\n                        <td>0.000</td><td>1.000</td><td>0.000</td><td>0</td>\n                    </tr>\n                \n                    <tr>\n                        <td>ROOM_AMENITIES#PRICES,neutral</td>\n                        \n                        <td>0.000</td><td>1.000</td><td>0.000</td><td>0</td>\n                    </tr>\n                \n                    <tr>\n                        <td>ROOM_AMENITIES#PRICES,negative</td>\n                        \n                        <td>0.000</td><td>0.000</td><td>0.000</td><td>1</td>\n                    </tr>\n                \n                    <tr>\n                        <td>ROOM_AMENITIES#QUALITY,positive</td>\n                        <td rowspan=\"3\">0.048</td><td rowspan=\"3\">0.051</td><td rowspan=\"3\">0.049</td><td rowspan=\"3\">59</td>\n                        <td>0.000</td><td>0.000</td><td>0.000</td><td>27</td>\n                    </tr>\n                \n                    <tr>\n                        <td>ROOM_AMENITIES#QUALITY,neutral</td>\n                        \n                        <td>0.000</td><td>1.000</td><td>0.000</td><td>0</td>\n                    </tr>\n                \n                    <tr>\n                        <td>ROOM_AMENITIES#QUALITY,negative</td>\n                        \n                        <td>0.000</td><td>0.000</td><td>0.000</td><td>32</td>\n                    </tr>\n                \n                    <tr>\n                        <td>SERVICE#GENERAL,positive</td>\n                        <td rowspan=\"3\">0.688</td><td rowspan=\"3\">0.945</td><td rowspan=\"3\">0.796</td><td rowspan=\"3\">416</td>\n                        <td>0.558</td><td>0.424</td><td>0.482</td><td>349</td>\n                    </tr>\n                \n                    <tr>\n                        <td>SERVICE#GENERAL,neutral</td>\n                        \n                        <td>0.000</td><td>0.000</td><td>0.000</td><td>28</td>\n                    </tr>\n                \n                    <tr>\n                        <td>SERVICE#GENERAL,negative</td>\n                        \n                        <td>0.033</td><td>0.256</td><td>0.058</td><td>39</td>\n                    </tr>\n                </table> \n                <div style=\"display: flex; align-items: center; flex-direction: column\">\n                    <b>Polarity Report</b><br>\n                    <table border=\"1\" class=\"dataframe\">\n  <thead>\n    <tr style=\"text-align: right;\">\n      <th></th>\n      <th>precision</th>\n      <th>recall</th>\n      <th>f1-score</th>\n      <th>support</th>\n    </tr>\n  </thead>\n  <tbody>\n    <tr>\n      <th>None</th>\n      <td>0.902176</td>\n      <td>0.337506</td>\n      <td>0.491238</td>\n      <td>17816.000000</td>\n    </tr>\n    <tr>\n      <th>positive</th>\n      <td>0.083481</td>\n      <td>0.209302</td>\n      <td>0.119356</td>\n      <td>1806.000000</td>\n    </tr>\n    <tr>\n      <th>negative</th>\n      <td>0.046134</td>\n      <td>0.330233</td>\n      <td>0.080958</td>\n      <td>645.000000</td>\n    </tr>\n    <tr>\n      <th>neutral</th>\n      <td>0.005229</td>\n      <td>0.180451</td>\n      <td>0.010163</td>\n      <td>133.000000</td>\n    </tr>\n    <tr>\n      <th>accuracy</th>\n      <td>0.324902</td>\n      <td>0.324902</td>\n      <td>0.324902</td>\n      <td>0.324902</td>\n    </tr>\n    <tr>\n      <th>macro avg</th>\n      <td>0.259255</td>\n      <td>0.264373</td>\n      <td>0.175429</td>\n      <td>20400.000000</td>\n    </tr>\n    <tr>\n      <th>weighted avg</th>\n      <td>0.796783</td>\n      <td>0.324902</td>\n      <td>0.442207</td>\n      <td>20400.000000</td>\n    </tr>\n  </tbody>\n</table><br>\n                    <b>Macro Avg Report</b><br>\n                    <table border=\"1\" class=\"dataframe\">\n  <thead>\n    <tr style=\"text-align: right;\">\n      <th></th>\n      <th>accuracy</th>\n      <th>precision</th>\n      <th>recall</th>\n      <th>f1-score</th>\n      <th>support</th>\n    </tr>\n  </thead>\n  <tbody>\n    <tr>\n      <th>Aspect#Category,Polarity</th>\n      <td>0.325</td>\n      <td>0.296</td>\n      <td>0.330</td>\n      <td>0.118</td>\n      <td>20400</td>\n    </tr>\n    <tr>\n      <th>Aspect#Category</th>\n      <td>0.389</td>\n      <td>0.142</td>\n      <td>0.664</td>\n      <td>0.180</td>\n      <td>20400</td>\n    </tr>\n    <tr>\n      <th>Polarity</th>\n      <td>0.325</td>\n      <td>0.259</td>\n      <td>0.264</td>\n      <td>0.175</td>\n      <td>20400</td>\n    </tr>\n  </tbody>\n</table>\n                </div>\n            </div>\n        "
     },
     "metadata": {}
    }
   ]
  }
 ]
}
